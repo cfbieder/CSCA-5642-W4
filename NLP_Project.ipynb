{
 "cells": [
  {
   "cell_type": "markdown",
   "id": "ef2e5b27",
   "metadata": {},
   "source": [
    "# Week 4: NLP Disaster Tweets Kaggle Mini-Project\n",
    "\n",
    "## Project Description\n",
    "\n",
    "The goal of this project is to forecast whether an given is actually announcing a disaster or not.  Certain words that may imply a disaster can have a different meeting depending on how it is used in a sentence.  Therefore the challange of this problem is to not only identify words that may indicate a distaster, but also look at the context of this word in relation to the rest of this sentence.\n",
    "For such a task a standard machine learning or deep learning model may not be sufficient.  However a recurrent neural networks (RNNs) may provide a better tool, as this method will also look at the patterns of words.\n",
    "\n",
    "A LTSM model based upon the tensorflow/keras library will be used to contruct this model"
   ]
  },
  {
   "cell_type": "code",
   "execution_count": 1,
   "id": "0373e81c",
   "metadata": {},
   "outputs": [
    {
     "name": "stdout",
     "output_type": "stream",
     "text": [
      "WARNING:tensorflow:From C:\\Users\\cfbie\\anaconda3\\Lib\\site-packages\\keras\\src\\losses.py:2976: The name tf.losses.sparse_softmax_cross_entropy is deprecated. Please use tf.compat.v1.losses.sparse_softmax_cross_entropy instead.\n",
      "\n"
     ]
    }
   ],
   "source": [
    "# import all necessary librarires\n",
    "import pandas as pd\n",
    "import numpy as np\n",
    "import re\n",
    "import matplotlib.pyplot as plt\n",
    "from nltk.stem import WordNetLemmatizer\n",
    "from nltk.corpus import stopwords\n",
    "from sklearn.metrics import f1_score\n",
    "from sklearn.model_selection import train_test_split\n",
    "from tensorflow.keras.preprocessing.text import Tokenizer\n",
    "from tensorflow.keras.preprocessing.sequence import pad_sequences\n",
    "from tensorflow.keras.models import Sequential\n",
    "from tensorflow.keras.layers import Embedding, LSTM, Dense, Flatten, Dropout, Bidirectional\n",
    "from keras.optimizers import Adam\n",
    "from tensorflow.keras.callbacks import EarlyStopping\n",
    "import seaborn as sns"
   ]
  },
  {
   "cell_type": "markdown",
   "id": "2670aa4b",
   "metadata": {},
   "source": [
    "## Data Overview\n",
    "The source data and project overview can be found on Kagle at https://www.kaggle.com/competitions/nlp-getting-started/overview\n",
    "The data consists of three files, one with a training set to build the model, a test set to submit to Kaggle for evaluation and file containing format for teh submission.\n",
    "\n",
    "As can be seen below the training set contains 7,613 and the test set contain 3,263 entries.\n",
    "The fields that will be used for this project are text for the independent variable and target for the dependant variable.  The other fields will not be utilized.\n",
    "\n",
    "The text field contains the actual text of the tweet, whereas the target field contains a 1 or 0 to represent whether the tweet actually referred to a distastor or not.\n",
    "\n",
    "As can be seen below, neither of these fields contain null entries, therefore none of the entries will be removed for purposes of this project"
   ]
  },
  {
   "cell_type": "code",
   "execution_count": 2,
   "id": "1a224e3b",
   "metadata": {},
   "outputs": [],
   "source": [
    "training_data = pd.read_csv(\"data/train.csv\")\n",
    "testing_data = pd.read_csv(\"data/test.csv\")\n",
    "submission = pd.read_csv(\"data/sample_submission.csv\")"
   ]
  },
  {
   "cell_type": "code",
   "execution_count": 3,
   "id": "5bf66d87",
   "metadata": {},
   "outputs": [
    {
     "name": "stdout",
     "output_type": "stream",
     "text": [
      "<class 'pandas.core.frame.DataFrame'>\n",
      "RangeIndex: 7613 entries, 0 to 7612\n",
      "Data columns (total 5 columns):\n",
      " #   Column    Non-Null Count  Dtype \n",
      "---  ------    --------------  ----- \n",
      " 0   id        7613 non-null   int64 \n",
      " 1   keyword   7552 non-null   object\n",
      " 2   location  5080 non-null   object\n",
      " 3   text      7613 non-null   object\n",
      " 4   target    7613 non-null   int64 \n",
      "dtypes: int64(2), object(3)\n",
      "memory usage: 297.5+ KB\n"
     ]
    }
   ],
   "source": [
    "training_data.info()"
   ]
  },
  {
   "cell_type": "code",
   "execution_count": 4,
   "id": "28dd22f8",
   "metadata": {},
   "outputs": [
    {
     "name": "stdout",
     "output_type": "stream",
     "text": [
      "<class 'pandas.core.frame.DataFrame'>\n",
      "RangeIndex: 3263 entries, 0 to 3262\n",
      "Data columns (total 4 columns):\n",
      " #   Column    Non-Null Count  Dtype \n",
      "---  ------    --------------  ----- \n",
      " 0   id        3263 non-null   int64 \n",
      " 1   keyword   3237 non-null   object\n",
      " 2   location  2158 non-null   object\n",
      " 3   text      3263 non-null   object\n",
      "dtypes: int64(1), object(3)\n",
      "memory usage: 102.1+ KB\n"
     ]
    }
   ],
   "source": [
    "testing_data.info()"
   ]
  },
  {
   "cell_type": "code",
   "execution_count": 5,
   "id": "c9e8f46f",
   "metadata": {},
   "outputs": [
    {
     "data": {
      "text/html": [
       "<div>\n",
       "<style scoped>\n",
       "    .dataframe tbody tr th:only-of-type {\n",
       "        vertical-align: middle;\n",
       "    }\n",
       "\n",
       "    .dataframe tbody tr th {\n",
       "        vertical-align: top;\n",
       "    }\n",
       "\n",
       "    .dataframe thead th {\n",
       "        text-align: right;\n",
       "    }\n",
       "</style>\n",
       "<table border=\"1\" class=\"dataframe\">\n",
       "  <thead>\n",
       "    <tr style=\"text-align: right;\">\n",
       "      <th></th>\n",
       "      <th>id</th>\n",
       "      <th>keyword</th>\n",
       "      <th>location</th>\n",
       "      <th>text</th>\n",
       "      <th>target</th>\n",
       "    </tr>\n",
       "  </thead>\n",
       "  <tbody>\n",
       "    <tr>\n",
       "      <th>0</th>\n",
       "      <td>1</td>\n",
       "      <td>NaN</td>\n",
       "      <td>NaN</td>\n",
       "      <td>Our Deeds are the Reason of this #earthquake M...</td>\n",
       "      <td>1</td>\n",
       "    </tr>\n",
       "    <tr>\n",
       "      <th>1</th>\n",
       "      <td>4</td>\n",
       "      <td>NaN</td>\n",
       "      <td>NaN</td>\n",
       "      <td>Forest fire near La Ronge Sask. Canada</td>\n",
       "      <td>1</td>\n",
       "    </tr>\n",
       "    <tr>\n",
       "      <th>2</th>\n",
       "      <td>5</td>\n",
       "      <td>NaN</td>\n",
       "      <td>NaN</td>\n",
       "      <td>All residents asked to 'shelter in place' are ...</td>\n",
       "      <td>1</td>\n",
       "    </tr>\n",
       "    <tr>\n",
       "      <th>3</th>\n",
       "      <td>6</td>\n",
       "      <td>NaN</td>\n",
       "      <td>NaN</td>\n",
       "      <td>13,000 people receive #wildfires evacuation or...</td>\n",
       "      <td>1</td>\n",
       "    </tr>\n",
       "    <tr>\n",
       "      <th>4</th>\n",
       "      <td>7</td>\n",
       "      <td>NaN</td>\n",
       "      <td>NaN</td>\n",
       "      <td>Just got sent this photo from Ruby #Alaska as ...</td>\n",
       "      <td>1</td>\n",
       "    </tr>\n",
       "  </tbody>\n",
       "</table>\n",
       "</div>"
      ],
      "text/plain": [
       "   id keyword location                                               text  \\\n",
       "0   1     NaN      NaN  Our Deeds are the Reason of this #earthquake M...   \n",
       "1   4     NaN      NaN             Forest fire near La Ronge Sask. Canada   \n",
       "2   5     NaN      NaN  All residents asked to 'shelter in place' are ...   \n",
       "3   6     NaN      NaN  13,000 people receive #wildfires evacuation or...   \n",
       "4   7     NaN      NaN  Just got sent this photo from Ruby #Alaska as ...   \n",
       "\n",
       "   target  \n",
       "0       1  \n",
       "1       1  \n",
       "2       1  \n",
       "3       1  \n",
       "4       1  "
      ]
     },
     "execution_count": 5,
     "metadata": {},
     "output_type": "execute_result"
    }
   ],
   "source": [
    "training_data.head()"
   ]
  },
  {
   "cell_type": "code",
   "execution_count": 6,
   "id": "280d1460",
   "metadata": {},
   "outputs": [
    {
     "data": {
      "text/html": [
       "<div>\n",
       "<style scoped>\n",
       "    .dataframe tbody tr th:only-of-type {\n",
       "        vertical-align: middle;\n",
       "    }\n",
       "\n",
       "    .dataframe tbody tr th {\n",
       "        vertical-align: top;\n",
       "    }\n",
       "\n",
       "    .dataframe thead th {\n",
       "        text-align: right;\n",
       "    }\n",
       "</style>\n",
       "<table border=\"1\" class=\"dataframe\">\n",
       "  <thead>\n",
       "    <tr style=\"text-align: right;\">\n",
       "      <th></th>\n",
       "      <th>id</th>\n",
       "      <th>keyword</th>\n",
       "      <th>location</th>\n",
       "      <th>text</th>\n",
       "    </tr>\n",
       "  </thead>\n",
       "  <tbody>\n",
       "    <tr>\n",
       "      <th>0</th>\n",
       "      <td>0</td>\n",
       "      <td>NaN</td>\n",
       "      <td>NaN</td>\n",
       "      <td>Just happened a terrible car crash</td>\n",
       "    </tr>\n",
       "    <tr>\n",
       "      <th>1</th>\n",
       "      <td>2</td>\n",
       "      <td>NaN</td>\n",
       "      <td>NaN</td>\n",
       "      <td>Heard about #earthquake is different cities, s...</td>\n",
       "    </tr>\n",
       "    <tr>\n",
       "      <th>2</th>\n",
       "      <td>3</td>\n",
       "      <td>NaN</td>\n",
       "      <td>NaN</td>\n",
       "      <td>there is a forest fire at spot pond, geese are...</td>\n",
       "    </tr>\n",
       "    <tr>\n",
       "      <th>3</th>\n",
       "      <td>9</td>\n",
       "      <td>NaN</td>\n",
       "      <td>NaN</td>\n",
       "      <td>Apocalypse lighting. #Spokane #wildfires</td>\n",
       "    </tr>\n",
       "    <tr>\n",
       "      <th>4</th>\n",
       "      <td>11</td>\n",
       "      <td>NaN</td>\n",
       "      <td>NaN</td>\n",
       "      <td>Typhoon Soudelor kills 28 in China and Taiwan</td>\n",
       "    </tr>\n",
       "  </tbody>\n",
       "</table>\n",
       "</div>"
      ],
      "text/plain": [
       "   id keyword location                                               text\n",
       "0   0     NaN      NaN                 Just happened a terrible car crash\n",
       "1   2     NaN      NaN  Heard about #earthquake is different cities, s...\n",
       "2   3     NaN      NaN  there is a forest fire at spot pond, geese are...\n",
       "3   9     NaN      NaN           Apocalypse lighting. #Spokane #wildfires\n",
       "4  11     NaN      NaN      Typhoon Soudelor kills 28 in China and Taiwan"
      ]
     },
     "execution_count": 6,
     "metadata": {},
     "output_type": "execute_result"
    }
   ],
   "source": [
    "testing_data.head()"
   ]
  },
  {
   "cell_type": "code",
   "execution_count": 7,
   "id": "b01cb48c",
   "metadata": {},
   "outputs": [
    {
     "data": {
      "text/plain": [
       "0"
      ]
     },
     "execution_count": 7,
     "metadata": {},
     "output_type": "execute_result"
    }
   ],
   "source": [
    "testing_data['text'].isnull().sum()"
   ]
  },
  {
   "cell_type": "code",
   "execution_count": 8,
   "id": "f26737d4",
   "metadata": {},
   "outputs": [
    {
     "data": {
      "text/plain": [
       "0"
      ]
     },
     "execution_count": 8,
     "metadata": {},
     "output_type": "execute_result"
    }
   ],
   "source": [
    "training_data['text'].isnull().sum()\n"
   ]
  },
  {
   "cell_type": "code",
   "execution_count": 9,
   "id": "3dc78edb",
   "metadata": {},
   "outputs": [
    {
     "data": {
      "text/plain": [
       "0"
      ]
     },
     "execution_count": 9,
     "metadata": {},
     "output_type": "execute_result"
    }
   ],
   "source": [
    "training_data['target'].isnull().sum()"
   ]
  },
  {
   "cell_type": "markdown",
   "id": "86f2bfba",
   "metadata": {},
   "source": [
    "## Exploratory Data Analysis (EDA)\n",
    "The data contains 7,613 non-null entriess of which 7,503 are unique.  The target field contains as expected 0's and 1's.  Therefore first pass of the data appears to be suffiecient to build a model.\n",
    "\n",
    "Within the data set 43% of the tweets represent a positivfe result, meaning that the tweet actually refers to a real disaster.\n",
    "\n"
   ]
  },
  {
   "cell_type": "code",
   "execution_count": 10,
   "id": "9ec5f70a",
   "metadata": {},
   "outputs": [
    {
     "data": {
      "text/html": [
       "<div>\n",
       "<style scoped>\n",
       "    .dataframe tbody tr th:only-of-type {\n",
       "        vertical-align: middle;\n",
       "    }\n",
       "\n",
       "    .dataframe tbody tr th {\n",
       "        vertical-align: top;\n",
       "    }\n",
       "\n",
       "    .dataframe thead th {\n",
       "        text-align: right;\n",
       "    }\n",
       "</style>\n",
       "<table border=\"1\" class=\"dataframe\">\n",
       "  <thead>\n",
       "    <tr style=\"text-align: right;\">\n",
       "      <th></th>\n",
       "      <th>id</th>\n",
       "      <th>keyword</th>\n",
       "      <th>location</th>\n",
       "      <th>text</th>\n",
       "      <th>target</th>\n",
       "    </tr>\n",
       "  </thead>\n",
       "  <tbody>\n",
       "    <tr>\n",
       "      <th>count</th>\n",
       "      <td>7613.000000</td>\n",
       "      <td>7552</td>\n",
       "      <td>5080</td>\n",
       "      <td>7613</td>\n",
       "      <td>7613.00000</td>\n",
       "    </tr>\n",
       "    <tr>\n",
       "      <th>unique</th>\n",
       "      <td>NaN</td>\n",
       "      <td>221</td>\n",
       "      <td>3341</td>\n",
       "      <td>7503</td>\n",
       "      <td>NaN</td>\n",
       "    </tr>\n",
       "    <tr>\n",
       "      <th>top</th>\n",
       "      <td>NaN</td>\n",
       "      <td>fatalities</td>\n",
       "      <td>USA</td>\n",
       "      <td>11-Year-Old Boy Charged With Manslaughter of T...</td>\n",
       "      <td>NaN</td>\n",
       "    </tr>\n",
       "    <tr>\n",
       "      <th>freq</th>\n",
       "      <td>NaN</td>\n",
       "      <td>45</td>\n",
       "      <td>104</td>\n",
       "      <td>10</td>\n",
       "      <td>NaN</td>\n",
       "    </tr>\n",
       "    <tr>\n",
       "      <th>mean</th>\n",
       "      <td>5441.934848</td>\n",
       "      <td>NaN</td>\n",
       "      <td>NaN</td>\n",
       "      <td>NaN</td>\n",
       "      <td>0.42966</td>\n",
       "    </tr>\n",
       "    <tr>\n",
       "      <th>std</th>\n",
       "      <td>3137.116090</td>\n",
       "      <td>NaN</td>\n",
       "      <td>NaN</td>\n",
       "      <td>NaN</td>\n",
       "      <td>0.49506</td>\n",
       "    </tr>\n",
       "    <tr>\n",
       "      <th>min</th>\n",
       "      <td>1.000000</td>\n",
       "      <td>NaN</td>\n",
       "      <td>NaN</td>\n",
       "      <td>NaN</td>\n",
       "      <td>0.00000</td>\n",
       "    </tr>\n",
       "    <tr>\n",
       "      <th>25%</th>\n",
       "      <td>2734.000000</td>\n",
       "      <td>NaN</td>\n",
       "      <td>NaN</td>\n",
       "      <td>NaN</td>\n",
       "      <td>0.00000</td>\n",
       "    </tr>\n",
       "    <tr>\n",
       "      <th>50%</th>\n",
       "      <td>5408.000000</td>\n",
       "      <td>NaN</td>\n",
       "      <td>NaN</td>\n",
       "      <td>NaN</td>\n",
       "      <td>0.00000</td>\n",
       "    </tr>\n",
       "    <tr>\n",
       "      <th>75%</th>\n",
       "      <td>8146.000000</td>\n",
       "      <td>NaN</td>\n",
       "      <td>NaN</td>\n",
       "      <td>NaN</td>\n",
       "      <td>1.00000</td>\n",
       "    </tr>\n",
       "    <tr>\n",
       "      <th>max</th>\n",
       "      <td>10873.000000</td>\n",
       "      <td>NaN</td>\n",
       "      <td>NaN</td>\n",
       "      <td>NaN</td>\n",
       "      <td>1.00000</td>\n",
       "    </tr>\n",
       "  </tbody>\n",
       "</table>\n",
       "</div>"
      ],
      "text/plain": [
       "                  id     keyword location  \\\n",
       "count    7613.000000        7552     5080   \n",
       "unique           NaN         221     3341   \n",
       "top              NaN  fatalities      USA   \n",
       "freq             NaN          45      104   \n",
       "mean     5441.934848         NaN      NaN   \n",
       "std      3137.116090         NaN      NaN   \n",
       "min         1.000000         NaN      NaN   \n",
       "25%      2734.000000         NaN      NaN   \n",
       "50%      5408.000000         NaN      NaN   \n",
       "75%      8146.000000         NaN      NaN   \n",
       "max     10873.000000         NaN      NaN   \n",
       "\n",
       "                                                     text      target  \n",
       "count                                                7613  7613.00000  \n",
       "unique                                               7503         NaN  \n",
       "top     11-Year-Old Boy Charged With Manslaughter of T...         NaN  \n",
       "freq                                                   10         NaN  \n",
       "mean                                                  NaN     0.42966  \n",
       "std                                                   NaN     0.49506  \n",
       "min                                                   NaN     0.00000  \n",
       "25%                                                   NaN     0.00000  \n",
       "50%                                                   NaN     0.00000  \n",
       "75%                                                   NaN     1.00000  \n",
       "max                                                   NaN     1.00000  "
      ]
     },
     "execution_count": 10,
     "metadata": {},
     "output_type": "execute_result"
    }
   ],
   "source": [
    "training_data.describe(include='all')"
   ]
  },
  {
   "cell_type": "code",
   "execution_count": 11,
   "id": "bd99850c",
   "metadata": {},
   "outputs": [
    {
     "name": "stdout",
     "output_type": "stream",
     "text": [
      "% of Tweets Postive: 43.0%\n"
     ]
    },
    {
     "data": {
      "image/png": "[encoded data removed]",
      "text/plain": [
       "<Figure size 400x300 with 1 Axes>"
      ]
     },
     "metadata": {},
     "output_type": "display_data"
    }
   ],
   "source": [
    "plt.figure(figsize=(4, 3))\n",
    "training_data.target.value_counts().plot(kind='bar')\n",
    "print(f'% of Tweets Postive: {round(training_data.target.value_counts()[1]/training_data.shape[0]*100,0)}%')"
   ]
  },
  {
   "cell_type": "markdown",
   "id": "94a9e7d1",
   "metadata": {},
   "source": [
    "### Quality of the Data\n",
    "Upon inspection of a sampel fo the data, it can be see that the text contains a number of non-essential information such as http sites,@ symbols as well as a combination of lower/upper case letters.\n"
   ]
  },
  {
   "cell_type": "code",
   "execution_count": 12,
   "id": "132a97f3",
   "metadata": {},
   "outputs": [
    {
     "data": {
      "text/html": [
       "<div>\n",
       "<style scoped>\n",
       "    .dataframe tbody tr th:only-of-type {\n",
       "        vertical-align: middle;\n",
       "    }\n",
       "\n",
       "    .dataframe tbody tr th {\n",
       "        vertical-align: top;\n",
       "    }\n",
       "\n",
       "    .dataframe thead th {\n",
       "        text-align: right;\n",
       "    }\n",
       "</style>\n",
       "<table border=\"1\" class=\"dataframe\">\n",
       "  <thead>\n",
       "    <tr style=\"text-align: right;\">\n",
       "      <th></th>\n",
       "      <th>id</th>\n",
       "      <th>keyword</th>\n",
       "      <th>location</th>\n",
       "      <th>text</th>\n",
       "      <th>target</th>\n",
       "    </tr>\n",
       "  </thead>\n",
       "  <tbody>\n",
       "    <tr>\n",
       "      <th>5425</th>\n",
       "      <td>7743</td>\n",
       "      <td>panicking</td>\n",
       "      <td>Positive 852</td>\n",
       "      <td>My sis can now sit on a cam w/o panicking http...</td>\n",
       "      <td>0</td>\n",
       "    </tr>\n",
       "    <tr>\n",
       "      <th>3607</th>\n",
       "      <td>5149</td>\n",
       "      <td>fatal</td>\n",
       "      <td>NaN</td>\n",
       "      <td>Robert Ballew's log statements are always at t...</td>\n",
       "      <td>0</td>\n",
       "    </tr>\n",
       "    <tr>\n",
       "      <th>2028</th>\n",
       "      <td>2911</td>\n",
       "      <td>danger</td>\n",
       "      <td>San Jose, California</td>\n",
       "      <td>Red Flag Warning for fire danger &amp;amp; dry thu...</td>\n",
       "      <td>1</td>\n",
       "    </tr>\n",
       "    <tr>\n",
       "      <th>5817</th>\n",
       "      <td>8301</td>\n",
       "      <td>rubble</td>\n",
       "      <td>Accra,Ghana</td>\n",
       "      <td>#360WiseNews : China's Stock Market Crash: Are...</td>\n",
       "      <td>0</td>\n",
       "    </tr>\n",
       "    <tr>\n",
       "      <th>7261</th>\n",
       "      <td>10395</td>\n",
       "      <td>whirlwind</td>\n",
       "      <td>Canterbury kent</td>\n",
       "      <td>Only been back 10 &amp;amp; a whirlwind has hit ja...</td>\n",
       "      <td>0</td>\n",
       "    </tr>\n",
       "    <tr>\n",
       "      <th>4327</th>\n",
       "      <td>6146</td>\n",
       "      <td>hijack</td>\n",
       "      <td>NaN</td>\n",
       "      <td>REVEALED: Everton hijack United bid for 14-yea...</td>\n",
       "      <td>0</td>\n",
       "    </tr>\n",
       "    <tr>\n",
       "      <th>3357</th>\n",
       "      <td>4807</td>\n",
       "      <td>evacuated</td>\n",
       "      <td>West</td>\n",
       "      <td>Rocky fire in Northern California swells to 60...</td>\n",
       "      <td>1</td>\n",
       "    </tr>\n",
       "    <tr>\n",
       "      <th>5666</th>\n",
       "      <td>8085</td>\n",
       "      <td>rescue</td>\n",
       "      <td>Karachi</td>\n",
       "      <td>Flood-zone : General Raheel Sharif visits Chit...</td>\n",
       "      <td>1</td>\n",
       "    </tr>\n",
       "    <tr>\n",
       "      <th>407</th>\n",
       "      <td>585</td>\n",
       "      <td>arson</td>\n",
       "      <td>NaN</td>\n",
       "      <td>Owner of Chicago-Area Gay Bar Admits to Arson ...</td>\n",
       "      <td>1</td>\n",
       "    </tr>\n",
       "    <tr>\n",
       "      <th>3705</th>\n",
       "      <td>5270</td>\n",
       "      <td>fear</td>\n",
       "      <td>Largo, MD</td>\n",
       "      <td>Men fear the feeling of being 'controlled' by ...</td>\n",
       "      <td>0</td>\n",
       "    </tr>\n",
       "  </tbody>\n",
       "</table>\n",
       "</div>"
      ],
      "text/plain": [
       "         id    keyword              location  \\\n",
       "5425   7743  panicking          Positive 852   \n",
       "3607   5149      fatal                   NaN   \n",
       "2028   2911     danger  San Jose, California   \n",
       "5817   8301     rubble           Accra,Ghana   \n",
       "7261  10395  whirlwind       Canterbury kent   \n",
       "4327   6146     hijack                   NaN   \n",
       "3357   4807  evacuated                  West   \n",
       "5666   8085     rescue               Karachi   \n",
       "407     585      arson                   NaN   \n",
       "3705   5270       fear             Largo, MD   \n",
       "\n",
       "                                                   text  target  \n",
       "5425  My sis can now sit on a cam w/o panicking http...       0  \n",
       "3607  Robert Ballew's log statements are always at t...       0  \n",
       "2028  Red Flag Warning for fire danger &amp; dry thu...       1  \n",
       "5817  #360WiseNews : China's Stock Market Crash: Are...       0  \n",
       "7261  Only been back 10 &amp; a whirlwind has hit ja...       0  \n",
       "4327  REVEALED: Everton hijack United bid for 14-yea...       0  \n",
       "3357  Rocky fire in Northern California swells to 60...       1  \n",
       "5666  Flood-zone : General Raheel Sharif visits Chit...       1  \n",
       "407   Owner of Chicago-Area Gay Bar Admits to Arson ...       1  \n",
       "3705  Men fear the feeling of being 'controlled' by ...       0  "
      ]
     },
     "execution_count": 12,
     "metadata": {},
     "output_type": "execute_result"
    }
   ],
   "source": [
    "training_data.sample(10)"
   ]
  },
  {
   "cell_type": "code",
   "execution_count": 13,
   "id": "e3bed5ea",
   "metadata": {},
   "outputs": [],
   "source": [
    "def clean_text(text):\n",
    "    lemm=WordNetLemmatizer()\n",
    "    stop_words = stopwords.words(\"english\")\n",
    "    \n",
    "\n",
    "    \n",
    "    def remove_stop(text):\n",
    "        ex_stop = []\n",
    "        for w in text.split(' '):\n",
    "            if w not in stop_words:\n",
    "                ex_stop.append(w)\n",
    "        return \" \".join(ex_stop)\n",
    "    \n",
    "    def remove_unwanted(text):\n",
    "        text = re.sub(r'^RT[\\s]+', '', text)\n",
    "        text = re.sub(r'https?://[^\\s\\n\\r]+', '', text)\n",
    "        text = re.sub(r'#', '', text)\n",
    "        text = re.sub(r'[^a-zA-Z0-9]', ' ', text)\n",
    "        return text\n",
    "    \n",
    "    text = text.apply(lambda x:x.lower())\n",
    "    text = text.apply(remove_stop)\n",
    "    text = text.apply(remove_unwanted)\n",
    "    text.apply(lambda x:lemm.lemmatize(x))\n",
    "    \n",
    "\n",
    "    \n",
    "    return text\n",
    "    "
   ]
  },
  {
   "cell_type": "markdown",
   "id": "f3872727",
   "metadata": {},
   "source": [
    "### Data Cleaning\n",
    "The above function clean_text helps clean up the data by:\n",
    "1. converting all letters to lower case\n",
    "2. remove stop words which most likley do not influence the context\n",
    "3. remove unwanted characters such as #'s and http references\n",
    "4. lemmatize the data - this steps converts common words to a similiar word base\n",
    "\n",
    "The effect of this cleaning and standardization can be see below.\n"
   ]
  },
  {
   "cell_type": "code",
   "execution_count": 14,
   "id": "5b332cfd",
   "metadata": {},
   "outputs": [
    {
     "data": {
      "text/html": [
       "<div>\n",
       "<style scoped>\n",
       "    .dataframe tbody tr th:only-of-type {\n",
       "        vertical-align: middle;\n",
       "    }\n",
       "\n",
       "    .dataframe tbody tr th {\n",
       "        vertical-align: top;\n",
       "    }\n",
       "\n",
       "    .dataframe thead th {\n",
       "        text-align: right;\n",
       "    }\n",
       "</style>\n",
       "<table border=\"1\" class=\"dataframe\">\n",
       "  <thead>\n",
       "    <tr style=\"text-align: right;\">\n",
       "      <th></th>\n",
       "      <th>id</th>\n",
       "      <th>keyword</th>\n",
       "      <th>location</th>\n",
       "      <th>text</th>\n",
       "      <th>target</th>\n",
       "      <th>text_clean</th>\n",
       "    </tr>\n",
       "  </thead>\n",
       "  <tbody>\n",
       "    <tr>\n",
       "      <th>0</th>\n",
       "      <td>1</td>\n",
       "      <td>NaN</td>\n",
       "      <td>NaN</td>\n",
       "      <td>Our Deeds are the Reason of this #earthquake M...</td>\n",
       "      <td>1</td>\n",
       "      <td>deeds reason earthquake may allah forgive us</td>\n",
       "    </tr>\n",
       "    <tr>\n",
       "      <th>1</th>\n",
       "      <td>4</td>\n",
       "      <td>NaN</td>\n",
       "      <td>NaN</td>\n",
       "      <td>Forest fire near La Ronge Sask. Canada</td>\n",
       "      <td>1</td>\n",
       "      <td>forest fire near la ronge sask  canada</td>\n",
       "    </tr>\n",
       "    <tr>\n",
       "      <th>2</th>\n",
       "      <td>5</td>\n",
       "      <td>NaN</td>\n",
       "      <td>NaN</td>\n",
       "      <td>All residents asked to 'shelter in place' are ...</td>\n",
       "      <td>1</td>\n",
       "      <td>residents asked  shelter place  notified offic...</td>\n",
       "    </tr>\n",
       "    <tr>\n",
       "      <th>3</th>\n",
       "      <td>6</td>\n",
       "      <td>NaN</td>\n",
       "      <td>NaN</td>\n",
       "      <td>13,000 people receive #wildfires evacuation or...</td>\n",
       "      <td>1</td>\n",
       "      <td>13 000 people receive wildfires evacuation ord...</td>\n",
       "    </tr>\n",
       "    <tr>\n",
       "      <th>4</th>\n",
       "      <td>7</td>\n",
       "      <td>NaN</td>\n",
       "      <td>NaN</td>\n",
       "      <td>Just got sent this photo from Ruby #Alaska as ...</td>\n",
       "      <td>1</td>\n",
       "      <td>got sent photo ruby alaska smoke wildfires pou...</td>\n",
       "    </tr>\n",
       "  </tbody>\n",
       "</table>\n",
       "</div>"
      ],
      "text/plain": [
       "   id keyword location                                               text  \\\n",
       "0   1     NaN      NaN  Our Deeds are the Reason of this #earthquake M...   \n",
       "1   4     NaN      NaN             Forest fire near La Ronge Sask. Canada   \n",
       "2   5     NaN      NaN  All residents asked to 'shelter in place' are ...   \n",
       "3   6     NaN      NaN  13,000 people receive #wildfires evacuation or...   \n",
       "4   7     NaN      NaN  Just got sent this photo from Ruby #Alaska as ...   \n",
       "\n",
       "   target                                         text_clean  \n",
       "0       1       deeds reason earthquake may allah forgive us  \n",
       "1       1             forest fire near la ronge sask  canada  \n",
       "2       1  residents asked  shelter place  notified offic...  \n",
       "3       1  13 000 people receive wildfires evacuation ord...  \n",
       "4       1  got sent photo ruby alaska smoke wildfires pou...  "
      ]
     },
     "execution_count": 14,
     "metadata": {},
     "output_type": "execute_result"
    }
   ],
   "source": [
    "training_data['text_clean'] = clean_text(training_data['text'])\n",
    "training_data.head()"
   ]
  },
  {
   "cell_type": "code",
   "execution_count": 15,
   "id": "328c121a",
   "metadata": {},
   "outputs": [
    {
     "data": {
      "text/html": [
       "<div>\n",
       "<style scoped>\n",
       "    .dataframe tbody tr th:only-of-type {\n",
       "        vertical-align: middle;\n",
       "    }\n",
       "\n",
       "    .dataframe tbody tr th {\n",
       "        vertical-align: top;\n",
       "    }\n",
       "\n",
       "    .dataframe thead th {\n",
       "        text-align: right;\n",
       "    }\n",
       "</style>\n",
       "<table border=\"1\" class=\"dataframe\">\n",
       "  <thead>\n",
       "    <tr style=\"text-align: right;\">\n",
       "      <th></th>\n",
       "      <th>id</th>\n",
       "      <th>keyword</th>\n",
       "      <th>location</th>\n",
       "      <th>text</th>\n",
       "      <th>target</th>\n",
       "      <th>text_clean</th>\n",
       "    </tr>\n",
       "  </thead>\n",
       "  <tbody>\n",
       "    <tr>\n",
       "      <th>749</th>\n",
       "      <td>1081</td>\n",
       "      <td>blew%20up</td>\n",
       "      <td>NaN</td>\n",
       "      <td>I blew up #oomf instagrams cause she's cute an...</td>\n",
       "      <td>0</td>\n",
       "      <td>blew oomf instagrams cause cute active follower</td>\n",
       "    </tr>\n",
       "    <tr>\n",
       "      <th>730</th>\n",
       "      <td>1054</td>\n",
       "      <td>bleeding</td>\n",
       "      <td>NaN</td>\n",
       "      <td>@Uptown_Jorge head up like yo nose bleeding</td>\n",
       "      <td>0</td>\n",
       "      <td>uptown jorge head like yo nose bleeding</td>\n",
       "    </tr>\n",
       "    <tr>\n",
       "      <th>7246</th>\n",
       "      <td>10376</td>\n",
       "      <td>weapons</td>\n",
       "      <td>( ?å¡ ?? ?å¡),</td>\n",
       "      <td>I liked a @YouTube video from @dannyonpc http:...</td>\n",
       "      <td>0</td>\n",
       "      <td>liked  youtube video  dannyonpc  battlefield h...</td>\n",
       "    </tr>\n",
       "    <tr>\n",
       "      <th>2016</th>\n",
       "      <td>2893</td>\n",
       "      <td>damage</td>\n",
       "      <td>NaN</td>\n",
       "      <td>#JSunNews Storm damage reported in Madison Cou...</td>\n",
       "      <td>1</td>\n",
       "      <td>jsunnews storm damage reported madison county ...</td>\n",
       "    </tr>\n",
       "    <tr>\n",
       "      <th>5607</th>\n",
       "      <td>8001</td>\n",
       "      <td>razed</td>\n",
       "      <td>NaN</td>\n",
       "      <td>The Latest: More homes razed by #NorthernCalif...</td>\n",
       "      <td>1</td>\n",
       "      <td>latest  homes razed northerncalifornia wildfir...</td>\n",
       "    </tr>\n",
       "    <tr>\n",
       "      <th>5202</th>\n",
       "      <td>7428</td>\n",
       "      <td>obliterated</td>\n",
       "      <td>Danbury, CT</td>\n",
       "      <td>Uribe just obliterated a baseball.</td>\n",
       "      <td>0</td>\n",
       "      <td>uribe obliterated baseball</td>\n",
       "    </tr>\n",
       "    <tr>\n",
       "      <th>5771</th>\n",
       "      <td>8238</td>\n",
       "      <td>riot</td>\n",
       "      <td>Mumbai</td>\n",
       "      <td>Stuart Broad Takes Eight Before Joe Root Runs ...</td>\n",
       "      <td>0</td>\n",
       "      <td>stuart broad takes eight joe root runs riot au...</td>\n",
       "    </tr>\n",
       "    <tr>\n",
       "      <th>4333</th>\n",
       "      <td>6153</td>\n",
       "      <td>hijack</td>\n",
       "      <td>eating strawberry shitsickles</td>\n",
       "      <td>@mockingpanems @cuddlesforjen what if he slamm...</td>\n",
       "      <td>0</td>\n",
       "      <td>mockingpanems  cuddlesforjen slammed wall wro...</td>\n",
       "    </tr>\n",
       "    <tr>\n",
       "      <th>4942</th>\n",
       "      <td>7044</td>\n",
       "      <td>mayhem</td>\n",
       "      <td>107-18 79TH STREET</td>\n",
       "      <td>#NoSurrender Results: Full Metal Mayhem World ...</td>\n",
       "      <td>0</td>\n",
       "      <td>nosurrender results  full metal mayhem world t...</td>\n",
       "    </tr>\n",
       "    <tr>\n",
       "      <th>3885</th>\n",
       "      <td>5524</td>\n",
       "      <td>flattened</td>\n",
       "      <td>UK</td>\n",
       "      <td>Today (August 6th) is the 70th anniversary of ...</td>\n",
       "      <td>1</td>\n",
       "      <td>today  august 6th  70th anniversary a bomb  li...</td>\n",
       "    </tr>\n",
       "  </tbody>\n",
       "</table>\n",
       "</div>"
      ],
      "text/plain": [
       "         id      keyword                       location  \\\n",
       "749    1081    blew%20up                            NaN   \n",
       "730    1054     bleeding                            NaN   \n",
       "7246  10376      weapons                ( ?å¡ ?? ?å¡),    \n",
       "2016   2893       damage                            NaN   \n",
       "5607   8001        razed                            NaN   \n",
       "5202   7428  obliterated                    Danbury, CT   \n",
       "5771   8238         riot                         Mumbai   \n",
       "4333   6153       hijack  eating strawberry shitsickles   \n",
       "4942   7044       mayhem             107-18 79TH STREET   \n",
       "3885   5524    flattened                             UK   \n",
       "\n",
       "                                                   text  target  \\\n",
       "749   I blew up #oomf instagrams cause she's cute an...       0   \n",
       "730         @Uptown_Jorge head up like yo nose bleeding       0   \n",
       "7246  I liked a @YouTube video from @dannyonpc http:...       0   \n",
       "2016  #JSunNews Storm damage reported in Madison Cou...       1   \n",
       "5607  The Latest: More homes razed by #NorthernCalif...       1   \n",
       "5202                 Uribe just obliterated a baseball.       0   \n",
       "5771  Stuart Broad Takes Eight Before Joe Root Runs ...       0   \n",
       "4333  @mockingpanems @cuddlesforjen what if he slamm...       0   \n",
       "4942  #NoSurrender Results: Full Metal Mayhem World ...       0   \n",
       "3885  Today (August 6th) is the 70th anniversary of ...       1   \n",
       "\n",
       "                                             text_clean  \n",
       "749     blew oomf instagrams cause cute active follower  \n",
       "730             uptown jorge head like yo nose bleeding  \n",
       "7246  liked  youtube video  dannyonpc  battlefield h...  \n",
       "2016  jsunnews storm damage reported madison county ...  \n",
       "5607  latest  homes razed northerncalifornia wildfir...  \n",
       "5202                        uribe obliterated baseball   \n",
       "5771  stuart broad takes eight joe root runs riot au...  \n",
       "4333   mockingpanems  cuddlesforjen slammed wall wro...  \n",
       "4942  nosurrender results  full metal mayhem world t...  \n",
       "3885  today  august 6th  70th anniversary a bomb  li...  "
      ]
     },
     "execution_count": 15,
     "metadata": {},
     "output_type": "execute_result"
    }
   ],
   "source": [
    "training_data.sample(10)"
   ]
  },
  {
   "attachments": {
    "image.png": {
     "image/png": "[encoded data removed]"
    }
   },
   "cell_type": "markdown",
   "id": "a8317e5c",
   "metadata": {},
   "source": [
    "## Model Building\n",
    "As noted in the introduction a RNN model wil be used.  This is to allow the context of keyboards within the sentence to be better analyized.  In order to minimize the effect of the vanishing gradient problem commonly found in certain RNN models a Long short-term memory (LSTM) model will be used.  \n",
    "![image.png](attachment:image.png)\n",
    "The above diagram from Wikipedia (https://en.wikipedia.org/wiki/Long_short-term_memory) illustrates the architecture of a LSTM RNN model"
   ]
  },
  {
   "cell_type": "code",
   "execution_count": 16,
   "id": "bcbac83a",
   "metadata": {},
   "outputs": [],
   "source": [
    "# Train_test split\n",
    "TEST_SIZE=0.2\n",
    "y = training_data['target']\n",
    "X_train, X_val, y_train, y_val = train_test_split(training_data, y, test_size=TEST_SIZE, random_state=10) "
   ]
  },
  {
   "cell_type": "markdown",
   "id": "1546ea13",
   "metadata": {},
   "source": [
    "The tokenizer from keras is used to vectorize the text (ie. turning the text into either a sequence of integers or into a vector).  This step will improve the overall performance of the model.\n",
    "The maximum number of words to keep is the primary hyper-parameter in this step"
   ]
  },
  {
   "cell_type": "code",
   "execution_count": 17,
   "id": "c5421158",
   "metadata": {},
   "outputs": [],
   "source": [
    "max_words = 10000\n",
    "tokenizer = Tokenizer(num_words = max_words,oov_token = '<OOV>')\n",
    "tokenizer.fit_on_texts(X_train[\"text_clean\"])"
   ]
  },
  {
   "cell_type": "code",
   "execution_count": 18,
   "id": "71085eb2",
   "metadata": {},
   "outputs": [],
   "source": [
    "max_len = 200\n",
    "\n",
    "\n",
    "sequences_train = tokenizer.texts_to_sequences(X_train['text_clean'].values)\n",
    "padded_train = pad_sequences(sequences_train)\n",
    "\n",
    "sequences_val = tokenizer.texts_to_sequences(X_val['text_clean'].values)\n",
    "padded_val = pad_sequences(sequences_val, maxlen=max_len, truncating='post')"
   ]
  },
  {
   "cell_type": "markdown",
   "id": "b911bd7a",
   "metadata": {},
   "source": [
    "### Base Model\n",
    "Early stopping will be applied to avoid both overfitting and underfitting of the training dataset.\n",
    "Too few iterations of the model may result in underfit model and early stopping specifies an \n",
    "arbitrary large number of training epochs and stop allow for the training to stop once the model performance stops improving\n"
   ]
  },
  {
   "cell_type": "code",
   "execution_count": 19,
   "id": "8d300452",
   "metadata": {},
   "outputs": [],
   "source": [
    "early_stopping = EarlyStopping(monitor='val_loss', patience=10, start_from_epoch=30)"
   ]
  },
  {
   "cell_type": "markdown",
   "id": "3be25f9a",
   "metadata": {},
   "source": [
    "The model will begin with two bidirectional LSTM layers.  The bidirectional step involves duplicating the first recurrent layer in the network so creating two layers side-by-side.  The first layer as is and the 2nd layer a reversed copy of the input sequence to the second.  A 128 dense later will then be generated using relu activation and finally an output layer using signoid activation."
   ]
  },
  {
   "cell_type": "code",
   "execution_count": 20,
   "id": "c1b3a2eb",
   "metadata": {},
   "outputs": [
    {
     "name": "stdout",
     "output_type": "stream",
     "text": [
      "WARNING:tensorflow:From C:\\Users\\cfbie\\anaconda3\\Lib\\site-packages\\keras\\src\\backend.py:873: The name tf.get_default_graph is deprecated. Please use tf.compat.v1.get_default_graph instead.\n",
      "\n"
     ]
    }
   ],
   "source": [
    "model = Sequential()\n",
    "model.add(Embedding(10000,128))\n",
    "model.add(Bidirectional(LSTM(64,return_sequences=True)))\n",
    "model.add(Bidirectional(LSTM(64)))\n",
    "model.add(Dense(128,activation=\"relu\"))\n",
    "model.add(Dropout(0.4))\n",
    "model.add(Dense(1,activation=\"sigmoid\"))"
   ]
  },
  {
   "cell_type": "code",
   "execution_count": 21,
   "id": "d8bdb89d",
   "metadata": {},
   "outputs": [
    {
     "name": "stdout",
     "output_type": "stream",
     "text": [
      "Model: \"sequential\"\n",
      "_________________________________________________________________\n",
      " Layer (type)                Output Shape              Param #   \n",
      "=================================================================\n",
      " embedding (Embedding)       (None, None, 128)         1280000   \n",
      "                                                                 \n",
      " bidirectional (Bidirection  (None, None, 128)         98816     \n",
      " al)                                                             \n",
      "                                                                 \n",
      " bidirectional_1 (Bidirecti  (None, 128)               98816     \n",
      " onal)                                                           \n",
      "                                                                 \n",
      " dense (Dense)               (None, 128)               16512     \n",
      "                                                                 \n",
      " dropout (Dropout)           (None, 128)               0         \n",
      "                                                                 \n",
      " dense_1 (Dense)             (None, 1)                 129       \n",
      "                                                                 \n",
      "=================================================================\n",
      "Total params: 1494273 (5.70 MB)\n",
      "Trainable params: 1494273 (5.70 MB)\n",
      "Non-trainable params: 0 (0.00 Byte)\n",
      "_________________________________________________________________\n"
     ]
    }
   ],
   "source": [
    "custom_lr = 0.00003\n",
    "\n",
    "custom_optimizer = Adam(learning_rate=custom_lr)\n",
    "\n",
    "# Compile the model with the custom optimizer\n",
    "model.compile(optimizer=custom_optimizer, loss='binary_crossentropy', metrics=['accuracy'])\n",
    "model.summary()"
   ]
  },
  {
   "cell_type": "code",
   "execution_count": 22,
   "id": "8233e5a2",
   "metadata": {},
   "outputs": [
    {
     "name": "stdout",
     "output_type": "stream",
     "text": [
      "Epoch 1/100\n",
      "WARNING:tensorflow:From C:\\Users\\cfbie\\anaconda3\\Lib\\site-packages\\keras\\src\\utils\\tf_utils.py:492: The name tf.ragged.RaggedTensorValue is deprecated. Please use tf.compat.v1.ragged.RaggedTensorValue instead.\n",
      "\n",
      "WARNING:tensorflow:From C:\\Users\\cfbie\\anaconda3\\Lib\\site-packages\\keras\\src\\engine\\base_layer_utils.py:384: The name tf.executing_eagerly_outside_functions is deprecated. Please use tf.compat.v1.executing_eagerly_outside_functions instead.\n",
      "\n",
      "24/24 [==============================] - 10s 184ms/step - loss: 0.6916 - accuracy: 0.5617 - val_loss: 0.6906 - val_accuracy: 0.5653\n",
      "Epoch 2/100\n",
      "24/24 [==============================] - 3s 118ms/step - loss: 0.6893 - accuracy: 0.5716 - val_loss: 0.6882 - val_accuracy: 0.5653\n",
      "Epoch 3/100\n",
      "24/24 [==============================] - 3s 115ms/step - loss: 0.6866 - accuracy: 0.5716 - val_loss: 0.6858 - val_accuracy: 0.5653\n",
      "Epoch 4/100\n",
      "24/24 [==============================] - 3s 114ms/step - loss: 0.6839 - accuracy: 0.5716 - val_loss: 0.6836 - val_accuracy: 0.5653\n",
      "Epoch 5/100\n",
      "24/24 [==============================] - 3s 114ms/step - loss: 0.6816 - accuracy: 0.5716 - val_loss: 0.6820 - val_accuracy: 0.5653\n",
      "Epoch 6/100\n",
      "24/24 [==============================] - 3s 119ms/step - loss: 0.6793 - accuracy: 0.5716 - val_loss: 0.6808 - val_accuracy: 0.5653\n",
      "Epoch 7/100\n",
      "24/24 [==============================] - 3s 114ms/step - loss: 0.6773 - accuracy: 0.5716 - val_loss: 0.6797 - val_accuracy: 0.5653\n",
      "Epoch 8/100\n",
      "24/24 [==============================] - 3s 116ms/step - loss: 0.6748 - accuracy: 0.5716 - val_loss: 0.6778 - val_accuracy: 0.5653\n",
      "Epoch 9/100\n",
      "24/24 [==============================] - 3s 115ms/step - loss: 0.6715 - accuracy: 0.5716 - val_loss: 0.6748 - val_accuracy: 0.5653\n",
      "Epoch 10/100\n",
      "24/24 [==============================] - 3s 114ms/step - loss: 0.6666 - accuracy: 0.5719 - val_loss: 0.6701 - val_accuracy: 0.5653\n",
      "Epoch 11/100\n",
      "24/24 [==============================] - 3s 116ms/step - loss: 0.6581 - accuracy: 0.5760 - val_loss: 0.6623 - val_accuracy: 0.5653\n",
      "Epoch 12/100\n",
      "24/24 [==============================] - 3s 118ms/step - loss: 0.6451 - accuracy: 0.5959 - val_loss: 0.6535 - val_accuracy: 0.5666\n",
      "Epoch 13/100\n",
      "24/24 [==============================] - 3s 116ms/step - loss: 0.6213 - accuracy: 0.6719 - val_loss: 0.6547 - val_accuracy: 0.5798\n",
      "Epoch 14/100\n",
      "24/24 [==============================] - 3s 114ms/step - loss: 0.5819 - accuracy: 0.7433 - val_loss: 0.6970 - val_accuracy: 0.6165\n",
      "Epoch 15/100\n",
      "24/24 [==============================] - 3s 118ms/step - loss: 0.5213 - accuracy: 0.7964 - val_loss: 0.9319 - val_accuracy: 0.6179\n",
      "Epoch 16/100\n",
      "24/24 [==============================] - 3s 120ms/step - loss: 0.4360 - accuracy: 0.8383 - val_loss: 0.8637 - val_accuracy: 0.6927\n",
      "Epoch 17/100\n",
      "24/24 [==============================] - 3s 119ms/step - loss: 0.3702 - accuracy: 0.8604 - val_loss: 1.0932 - val_accuracy: 0.6730\n",
      "Epoch 18/100\n",
      "24/24 [==============================] - 3s 114ms/step - loss: 0.3187 - accuracy: 0.8813 - val_loss: 0.9376 - val_accuracy: 0.7183\n",
      "Epoch 19/100\n",
      "24/24 [==============================] - 3s 114ms/step - loss: 0.2871 - accuracy: 0.8954 - val_loss: 0.7771 - val_accuracy: 0.7525\n",
      "Epoch 20/100\n",
      "24/24 [==============================] - 3s 115ms/step - loss: 0.2588 - accuracy: 0.9085 - val_loss: 0.9115 - val_accuracy: 0.7308\n",
      "Epoch 21/100\n",
      "24/24 [==============================] - 3s 118ms/step - loss: 0.2382 - accuracy: 0.9192 - val_loss: 0.8609 - val_accuracy: 0.7498\n",
      "Epoch 22/100\n",
      "24/24 [==============================] - 3s 117ms/step - loss: 0.2224 - accuracy: 0.9250 - val_loss: 0.9591 - val_accuracy: 0.7347\n",
      "Epoch 23/100\n",
      "24/24 [==============================] - 3s 121ms/step - loss: 0.2077 - accuracy: 0.9337 - val_loss: 0.9369 - val_accuracy: 0.7459\n",
      "Epoch 24/100\n",
      "24/24 [==============================] - 3s 116ms/step - loss: 0.1918 - accuracy: 0.9376 - val_loss: 0.9781 - val_accuracy: 0.7446\n",
      "Epoch 25/100\n",
      "24/24 [==============================] - 3s 115ms/step - loss: 0.1819 - accuracy: 0.9415 - val_loss: 1.0734 - val_accuracy: 0.7334\n",
      "Epoch 26/100\n",
      "24/24 [==============================] - 3s 114ms/step - loss: 0.1665 - accuracy: 0.9481 - val_loss: 1.0602 - val_accuracy: 0.7406\n",
      "Epoch 27/100\n",
      "24/24 [==============================] - 3s 110ms/step - loss: 0.1534 - accuracy: 0.9506 - val_loss: 1.1852 - val_accuracy: 0.7249\n",
      "Epoch 28/100\n",
      "24/24 [==============================] - 3s 112ms/step - loss: 0.1448 - accuracy: 0.9548 - val_loss: 1.0925 - val_accuracy: 0.7406\n",
      "Epoch 29/100\n",
      "24/24 [==============================] - 3s 111ms/step - loss: 0.1367 - accuracy: 0.9578 - val_loss: 1.1181 - val_accuracy: 0.7406\n",
      "Epoch 30/100\n",
      "24/24 [==============================] - 3s 111ms/step - loss: 0.1270 - accuracy: 0.9609 - val_loss: 1.1482 - val_accuracy: 0.7400\n",
      "Epoch 31/100\n",
      "24/24 [==============================] - 3s 109ms/step - loss: 0.1196 - accuracy: 0.9632 - val_loss: 1.2338 - val_accuracy: 0.7328\n",
      "Epoch 32/100\n",
      "24/24 [==============================] - 3s 109ms/step - loss: 0.1091 - accuracy: 0.9660 - val_loss: 1.2620 - val_accuracy: 0.7328\n",
      "Epoch 33/100\n",
      "24/24 [==============================] - 3s 110ms/step - loss: 0.1020 - accuracy: 0.9696 - val_loss: 1.2354 - val_accuracy: 0.7360\n",
      "Epoch 34/100\n",
      "24/24 [==============================] - 3s 108ms/step - loss: 0.0995 - accuracy: 0.9695 - val_loss: 1.2769 - val_accuracy: 0.7308\n",
      "Epoch 35/100\n",
      "24/24 [==============================] - 3s 110ms/step - loss: 0.0959 - accuracy: 0.9690 - val_loss: 1.3862 - val_accuracy: 0.7190\n",
      "Epoch 36/100\n",
      "24/24 [==============================] - 3s 110ms/step - loss: 0.0906 - accuracy: 0.9724 - val_loss: 1.3288 - val_accuracy: 0.7275\n",
      "Epoch 37/100\n",
      "24/24 [==============================] - 3s 110ms/step - loss: 0.0850 - accuracy: 0.9754 - val_loss: 1.3683 - val_accuracy: 0.7236\n",
      "Epoch 38/100\n",
      "24/24 [==============================] - 3s 112ms/step - loss: 0.0821 - accuracy: 0.9765 - val_loss: 1.2671 - val_accuracy: 0.7380\n",
      "Epoch 39/100\n",
      "24/24 [==============================] - 3s 115ms/step - loss: 0.0836 - accuracy: 0.9745 - val_loss: 1.5076 - val_accuracy: 0.7098\n",
      "Epoch 40/100\n",
      "24/24 [==============================] - 3s 110ms/step - loss: 0.0855 - accuracy: 0.9718 - val_loss: 1.4123 - val_accuracy: 0.7196\n",
      "Epoch 41/100\n",
      "24/24 [==============================] - 3s 109ms/step - loss: 0.0727 - accuracy: 0.9759 - val_loss: 1.4354 - val_accuracy: 0.7190\n"
     ]
    }
   ],
   "source": [
    "history = model.fit(padded_train, y_train, epochs=100,validation_data=(padded_val, y_val),batch_size=256,\n",
    "                    callbacks=early_stopping)"
   ]
  },
  {
   "cell_type": "markdown",
   "id": "2c282591",
   "metadata": {},
   "source": [
    "## Results and Analysis \n",
    "The intial model produce a low F1 score on the evaluation data, with a near 100% on the training data, this may indicate that the model is overfitting.  The divergence can be see in the graphs as well below."
   ]
  },
  {
   "cell_type": "code",
   "execution_count": 23,
   "id": "7406aad2",
   "metadata": {},
   "outputs": [
    {
     "name": "stdout",
     "output_type": "stream",
     "text": [
      "48/48 [==============================] - 3s 36ms/step\n",
      "F1 Score: 0.5367965367965368\n"
     ]
    }
   ],
   "source": [
    "f1_scores = []\n",
    "y_pred = model.predict(padded_val)\n",
    "y_pred = (y_pred > 0.5).astype(int)\n",
    "\n",
    "f1 = f1_score(X_val['target'], y_pred)\n",
    "print(f\"F1 Score: {f1}\")\n",
    "\n",
    "f1_scores.append( {'Base Model',f1_score(X_val['target'], y_pred)})"
   ]
  },
  {
   "cell_type": "code",
   "execution_count": 24,
   "id": "8a3d221a",
   "metadata": {},
   "outputs": [
    {
     "data": {
      "text/plain": [
       "<matplotlib.legend.Legend at 0x1407276bd90>"
      ]
     },
     "execution_count": 24,
     "metadata": {},
     "output_type": "execute_result"
    },
    {
     "data": {
      "image/png": "[encoded data removed]",
      "text/plain": [
       "<Figure size 1200x400 with 2 Axes>"
      ]
     },
     "metadata": {},
     "output_type": "display_data"
    }
   ],
   "source": [
    "fig , ax = plt.subplots(1,2)\n",
    "fig.set_size_inches(12,4)\n",
    "\n",
    "ax[0].plot(history.history['accuracy'])\n",
    "ax[0].plot(history.history['val_accuracy'])\n",
    "ax[0].set_title('Base Model - Accuracy')\n",
    "ax[0].set_ylabel('Accuracy')\n",
    "ax[0].set_xlabel('Epoch')\n",
    "ax[0].legend(['Train', 'Validation'], loc='upper left')\n",
    "\n",
    "ax[1].plot(history.history['loss'])\n",
    "ax[1].plot(history.history['val_loss'])\n",
    "ax[1].set_title('Base Model - Loss')\n",
    "ax[1].set_ylabel('Loss')\n",
    "ax[1].set_xlabel('Epoch')\n",
    "ax[1].legend(['Train', 'Validation'], loc='upper left')"
   ]
  },
  {
   "cell_type": "markdown",
   "id": "c3d2bd03",
   "metadata": {},
   "source": [
    "### Alternate Model\n",
    "In order to attempt to minimize the over-fitting from the base model an alternate version is presented below\n"
   ]
  },
  {
   "cell_type": "markdown",
   "id": "80ffadd8",
   "metadata": {},
   "source": [
    "4 Variations on the base model are done below:\n",
    "\n",
    "Variant 1 - Additional Dense Layer\n",
    "\n",
    "Variant 2 - Reduce the learning rate on model 1 by a factor of 100\n",
    "\n",
    "Variant 3 - Additional Dense Layer on Variant 1\n",
    "\n",
    "Variant 4 - One more dense layer on Variant 3"
   ]
  },
  {
   "cell_type": "code",
   "execution_count": 25,
   "id": "7c9bef36",
   "metadata": {},
   "outputs": [
    {
     "name": "stdout",
     "output_type": "stream",
     "text": [
      "Epoch 1/100\n",
      "24/24 [==============================] - 10s 177ms/step - loss: 0.6927 - accuracy: 0.5176 - val_loss: 0.6915 - val_accuracy: 0.5653\n",
      "Epoch 2/100\n",
      "24/24 [==============================] - 3s 113ms/step - loss: 0.6905 - accuracy: 0.5594 - val_loss: 0.6896 - val_accuracy: 0.5653\n",
      "Epoch 3/100\n",
      "24/24 [==============================] - 3s 114ms/step - loss: 0.6886 - accuracy: 0.5652 - val_loss: 0.6875 - val_accuracy: 0.5653\n",
      "Epoch 4/100\n",
      "24/24 [==============================] - 3s 113ms/step - loss: 0.6871 - accuracy: 0.5708 - val_loss: 0.6855 - val_accuracy: 0.5653\n",
      "Epoch 5/100\n",
      "24/24 [==============================] - 3s 115ms/step - loss: 0.6849 - accuracy: 0.5722 - val_loss: 0.6836 - val_accuracy: 0.5653\n",
      "Epoch 6/100\n",
      "24/24 [==============================] - 3s 117ms/step - loss: 0.6822 - accuracy: 0.5716 - val_loss: 0.6820 - val_accuracy: 0.5653\n",
      "Epoch 7/100\n",
      "24/24 [==============================] - 3s 114ms/step - loss: 0.6826 - accuracy: 0.5719 - val_loss: 0.6811 - val_accuracy: 0.5653\n",
      "Epoch 8/100\n",
      "24/24 [==============================] - 3s 116ms/step - loss: 0.6811 - accuracy: 0.5709 - val_loss: 0.6803 - val_accuracy: 0.5653\n",
      "Epoch 9/100\n",
      "24/24 [==============================] - 3s 114ms/step - loss: 0.6809 - accuracy: 0.5711 - val_loss: 0.6794 - val_accuracy: 0.5653\n",
      "Epoch 10/100\n",
      "24/24 [==============================] - 3s 114ms/step - loss: 0.6792 - accuracy: 0.5716 - val_loss: 0.6783 - val_accuracy: 0.5653\n",
      "Epoch 11/100\n",
      "24/24 [==============================] - 3s 114ms/step - loss: 0.6792 - accuracy: 0.5719 - val_loss: 0.6769 - val_accuracy: 0.5653\n",
      "Epoch 12/100\n",
      "24/24 [==============================] - 3s 115ms/step - loss: 0.6746 - accuracy: 0.5711 - val_loss: 0.6751 - val_accuracy: 0.5653\n",
      "Epoch 13/100\n",
      "24/24 [==============================] - 3s 115ms/step - loss: 0.6748 - accuracy: 0.5716 - val_loss: 0.6728 - val_accuracy: 0.5653\n",
      "Epoch 14/100\n",
      "24/24 [==============================] - 3s 116ms/step - loss: 0.6703 - accuracy: 0.5716 - val_loss: 0.6698 - val_accuracy: 0.5653\n",
      "Epoch 15/100\n",
      "24/24 [==============================] - 3s 114ms/step - loss: 0.6648 - accuracy: 0.5719 - val_loss: 0.6669 - val_accuracy: 0.5653\n",
      "Epoch 16/100\n",
      "24/24 [==============================] - 3s 114ms/step - loss: 0.6604 - accuracy: 0.5729 - val_loss: 0.6612 - val_accuracy: 0.5653\n",
      "Epoch 17/100\n",
      "24/24 [==============================] - 3s 115ms/step - loss: 0.6499 - accuracy: 0.5775 - val_loss: 0.6588 - val_accuracy: 0.5653\n",
      "Epoch 18/100\n",
      "24/24 [==============================] - 3s 114ms/step - loss: 0.6322 - accuracy: 0.6084 - val_loss: 0.7236 - val_accuracy: 0.5653\n",
      "Epoch 19/100\n",
      "24/24 [==============================] - 3s 114ms/step - loss: 0.6019 - accuracy: 0.6634 - val_loss: 1.0541 - val_accuracy: 0.5653\n",
      "Epoch 20/100\n",
      "24/24 [==============================] - 3s 115ms/step - loss: 0.5530 - accuracy: 0.7612 - val_loss: 1.5078 - val_accuracy: 0.5653\n",
      "Epoch 21/100\n",
      "24/24 [==============================] - 3s 113ms/step - loss: 0.4871 - accuracy: 0.8422 - val_loss: 1.6668 - val_accuracy: 0.5791\n",
      "Epoch 22/100\n",
      "24/24 [==============================] - 3s 115ms/step - loss: 0.4358 - accuracy: 0.8681 - val_loss: 1.5703 - val_accuracy: 0.6868\n",
      "Epoch 23/100\n",
      "24/24 [==============================] - 3s 120ms/step - loss: 0.3848 - accuracy: 0.8806 - val_loss: 1.2616 - val_accuracy: 0.7531\n",
      "Epoch 24/100\n",
      "24/24 [==============================] - 3s 114ms/step - loss: 0.3382 - accuracy: 0.8905 - val_loss: 1.1385 - val_accuracy: 0.7715\n",
      "Epoch 25/100\n",
      "24/24 [==============================] - 3s 114ms/step - loss: 0.2914 - accuracy: 0.9023 - val_loss: 1.1778 - val_accuracy: 0.7643\n",
      "Epoch 26/100\n",
      "24/24 [==============================] - 3s 112ms/step - loss: 0.2635 - accuracy: 0.9126 - val_loss: 1.1610 - val_accuracy: 0.7676\n",
      "Epoch 27/100\n",
      "24/24 [==============================] - 3s 110ms/step - loss: 0.2401 - accuracy: 0.9235 - val_loss: 1.2098 - val_accuracy: 0.7649\n",
      "Epoch 28/100\n",
      "24/24 [==============================] - 3s 109ms/step - loss: 0.2176 - accuracy: 0.9322 - val_loss: 1.2657 - val_accuracy: 0.7610\n",
      "Epoch 29/100\n",
      "24/24 [==============================] - 3s 111ms/step - loss: 0.2060 - accuracy: 0.9402 - val_loss: 1.2347 - val_accuracy: 0.7728\n",
      "Epoch 30/100\n",
      "24/24 [==============================] - 3s 110ms/step - loss: 0.1875 - accuracy: 0.9420 - val_loss: 1.2344 - val_accuracy: 0.7794\n",
      "Epoch 31/100\n",
      "24/24 [==============================] - 3s 110ms/step - loss: 0.1711 - accuracy: 0.9479 - val_loss: 1.3138 - val_accuracy: 0.7735\n",
      "Epoch 32/100\n",
      "24/24 [==============================] - 3s 110ms/step - loss: 0.1616 - accuracy: 0.9517 - val_loss: 1.2680 - val_accuracy: 0.7866\n",
      "Epoch 33/100\n",
      "24/24 [==============================] - 3s 111ms/step - loss: 0.1515 - accuracy: 0.9581 - val_loss: 1.3541 - val_accuracy: 0.7768\n",
      "Epoch 34/100\n",
      "24/24 [==============================] - 3s 111ms/step - loss: 0.1404 - accuracy: 0.9616 - val_loss: 1.4067 - val_accuracy: 0.7722\n",
      "Epoch 35/100\n",
      "24/24 [==============================] - 3s 111ms/step - loss: 0.1346 - accuracy: 0.9629 - val_loss: 1.3736 - val_accuracy: 0.7814\n",
      "Epoch 36/100\n",
      "24/24 [==============================] - 3s 113ms/step - loss: 0.1267 - accuracy: 0.9660 - val_loss: 1.4553 - val_accuracy: 0.7708\n",
      "Epoch 37/100\n",
      "24/24 [==============================] - 3s 111ms/step - loss: 0.1201 - accuracy: 0.9686 - val_loss: 1.4091 - val_accuracy: 0.7833\n",
      "Epoch 38/100\n",
      "24/24 [==============================] - 3s 110ms/step - loss: 0.1133 - accuracy: 0.9708 - val_loss: 1.4572 - val_accuracy: 0.7781\n",
      "Epoch 39/100\n",
      "24/24 [==============================] - 3s 110ms/step - loss: 0.1076 - accuracy: 0.9703 - val_loss: 1.4783 - val_accuracy: 0.7794\n",
      "Epoch 40/100\n",
      "24/24 [==============================] - 3s 110ms/step - loss: 0.1065 - accuracy: 0.9711 - val_loss: 1.4413 - val_accuracy: 0.7866\n",
      "Epoch 41/100\n",
      "24/24 [==============================] - 3s 110ms/step - loss: 0.1015 - accuracy: 0.9750 - val_loss: 1.4867 - val_accuracy: 0.7807\n",
      "Epoch 42/100\n",
      "24/24 [==============================] - 3s 110ms/step - loss: 0.0948 - accuracy: 0.9736 - val_loss: 1.4756 - val_accuracy: 0.7859\n"
     ]
    }
   ],
   "source": [
    "# model1 1\n",
    "\n",
    "\n",
    "\n",
    "max_words = 10000\n",
    "tokenizer = Tokenizer(num_words = max_words,oov_token = '<OOV>')\n",
    "tokenizer.fit_on_texts(X_train[\"text_clean\"])\n",
    "max_len = 200\n",
    "sequences_train = tokenizer.texts_to_sequences(X_train['text_clean'].values)\n",
    "padded_train = pad_sequences(sequences_train)\n",
    "sequences_val = tokenizer.texts_to_sequences(X_val['text_clean'].values)\n",
    "padded_val = pad_sequences(sequences_val, maxlen=max_len, truncating='post')\n",
    "\n",
    "\n",
    "model1 = Sequential()\n",
    "model1.add(Embedding(10000,128))\n",
    "model1.add(Bidirectional(LSTM(64,return_sequences=True)))\n",
    "model1.add(Bidirectional(LSTM(64)))\n",
    "model1.add(Dropout(0.5))\n",
    "model1.add(Flatten())\n",
    "model1.add(Dense(128,activation=\"relu\"))\n",
    "model1.add(Dropout(0.4))\n",
    "model1.add(Dense(64, activation = 'relu'))\n",
    "model1.add(Dropout(0.5))\n",
    "model1.add(Dense(1,activation=\"sigmoid\"))\n",
    "\n",
    "custom_lr = 0.00003\n",
    "custom_optimizer = Adam(learning_rate=custom_lr)\n",
    "model1.compile(optimizer=custom_optimizer, loss='binary_crossentropy', metrics=['accuracy'])\n",
    "history = model1.fit(padded_train, y_train, epochs=100,validation_data=(padded_val, y_val),batch_size=256,\n",
    "                    callbacks=early_stopping)"
   ]
  },
  {
   "cell_type": "code",
   "execution_count": 26,
   "id": "f7a4b800",
   "metadata": {},
   "outputs": [
    {
     "name": "stdout",
     "output_type": "stream",
     "text": [
      "48/48 [==============================] - 3s 36ms/step\n"
     ]
    },
    {
     "data": {
      "text/plain": [
       "<matplotlib.legend.Legend at 0x14073211810>"
      ]
     },
     "execution_count": 26,
     "metadata": {},
     "output_type": "execute_result"
    },
    {
     "data": {
      "image/png": "[encoded data removed]",
      "text/plain": [
       "<Figure size 1200x400 with 2 Axes>"
      ]
     },
     "metadata": {},
     "output_type": "display_data"
    }
   ],
   "source": [
    "y_pred = model1.predict(padded_val)\n",
    "y_pred = (y_pred > 0.5).astype(int)\n",
    "\n",
    "f1_scores.append( {'Variant 1',f1_score(X_val['target'], y_pred)})\n",
    "\n",
    "fig , ax = plt.subplots(1,2)\n",
    "fig.set_size_inches(12,4)\n",
    "\n",
    "\n",
    "ax[0].plot(history.history['accuracy'])\n",
    "ax[0].plot(history.history['val_accuracy'])\n",
    "ax[0].set_title('Variant 1 - Accuracy')\n",
    "ax[0].set_ylabel('Accuracy')\n",
    "ax[0].set_xlabel('Epoch')\n",
    "ax[0].legend(['Train', 'Validation'], loc='upper left')\n",
    "\n",
    "ax[1].plot(history.history['loss'])\n",
    "ax[1].plot(history.history['val_loss'])\n",
    "ax[1].set_title('Variant 1 - Loss')\n",
    "ax[1].set_ylabel('Loss')\n",
    "ax[1].set_xlabel('Epoch')\n",
    "ax[1].legend(['Train', 'Validation'], loc='upper left')"
   ]
  },
  {
   "cell_type": "code",
   "execution_count": 27,
   "id": "7ce7bc0e",
   "metadata": {},
   "outputs": [
    {
     "name": "stdout",
     "output_type": "stream",
     "text": [
      "Epoch 1/100\n",
      "24/24 [==============================] - 9s 169ms/step - loss: 0.6303 - accuracy: 0.6335 - val_loss: 0.4675 - val_accuracy: 0.7879\n",
      "Epoch 2/100\n",
      "24/24 [==============================] - 3s 120ms/step - loss: 0.3408 - accuracy: 0.8701 - val_loss: 0.4843 - val_accuracy: 0.7938\n",
      "Epoch 3/100\n",
      "24/24 [==============================] - 3s 117ms/step - loss: 0.2049 - accuracy: 0.9307 - val_loss: 0.6629 - val_accuracy: 0.7695\n",
      "Epoch 4/100\n",
      "24/24 [==============================] - 3s 116ms/step - loss: 0.1409 - accuracy: 0.9542 - val_loss: 0.7931 - val_accuracy: 0.7754\n",
      "Epoch 5/100\n",
      "24/24 [==============================] - 3s 115ms/step - loss: 0.1132 - accuracy: 0.9645 - val_loss: 0.8854 - val_accuracy: 0.7446\n",
      "Epoch 6/100\n",
      "24/24 [==============================] - 3s 115ms/step - loss: 0.0791 - accuracy: 0.9706 - val_loss: 1.1794 - val_accuracy: 0.7649\n",
      "Epoch 7/100\n",
      "24/24 [==============================] - 3s 116ms/step - loss: 0.0633 - accuracy: 0.9788 - val_loss: 1.2693 - val_accuracy: 0.7656\n",
      "Epoch 8/100\n",
      "24/24 [==============================] - 3s 116ms/step - loss: 0.0476 - accuracy: 0.9798 - val_loss: 1.6790 - val_accuracy: 0.7630\n",
      "Epoch 9/100\n",
      "24/24 [==============================] - 3s 114ms/step - loss: 0.0445 - accuracy: 0.9810 - val_loss: 1.7274 - val_accuracy: 0.7472\n",
      "Epoch 10/100\n",
      "24/24 [==============================] - 3s 115ms/step - loss: 0.0376 - accuracy: 0.9819 - val_loss: 2.0054 - val_accuracy: 0.7321\n",
      "Epoch 11/100\n",
      "24/24 [==============================] - 3s 115ms/step - loss: 0.0376 - accuracy: 0.9828 - val_loss: 1.9806 - val_accuracy: 0.7433\n",
      "Epoch 12/100\n",
      "24/24 [==============================] - 3s 115ms/step - loss: 0.0358 - accuracy: 0.9844 - val_loss: 2.3707 - val_accuracy: 0.7367\n",
      "Epoch 13/100\n",
      "24/24 [==============================] - 3s 114ms/step - loss: 0.0518 - accuracy: 0.9782 - val_loss: 1.7050 - val_accuracy: 0.7367\n",
      "Epoch 14/100\n",
      "24/24 [==============================] - 3s 113ms/step - loss: 0.0451 - accuracy: 0.9790 - val_loss: 1.8161 - val_accuracy: 0.7571\n",
      "Epoch 15/100\n",
      "24/24 [==============================] - 3s 114ms/step - loss: 0.0485 - accuracy: 0.9801 - val_loss: 1.4212 - val_accuracy: 0.7367\n",
      "Epoch 16/100\n",
      "24/24 [==============================] - 3s 117ms/step - loss: 0.0402 - accuracy: 0.9806 - val_loss: 1.8755 - val_accuracy: 0.7597\n",
      "Epoch 17/100\n",
      "24/24 [==============================] - 3s 114ms/step - loss: 0.0365 - accuracy: 0.9818 - val_loss: 2.3484 - val_accuracy: 0.7308\n",
      "Epoch 18/100\n",
      "24/24 [==============================] - 3s 116ms/step - loss: 0.0325 - accuracy: 0.9836 - val_loss: 2.2140 - val_accuracy: 0.7255\n",
      "Epoch 19/100\n",
      "24/24 [==============================] - 3s 119ms/step - loss: 0.0320 - accuracy: 0.9839 - val_loss: 2.5452 - val_accuracy: 0.7446\n",
      "Epoch 20/100\n",
      "24/24 [==============================] - 3s 116ms/step - loss: 0.0296 - accuracy: 0.9829 - val_loss: 2.8924 - val_accuracy: 0.7518\n",
      "Epoch 21/100\n",
      "24/24 [==============================] - 3s 122ms/step - loss: 0.0291 - accuracy: 0.9856 - val_loss: 2.8511 - val_accuracy: 0.7426\n",
      "Epoch 22/100\n",
      "24/24 [==============================] - 3s 120ms/step - loss: 0.0264 - accuracy: 0.9870 - val_loss: 2.9111 - val_accuracy: 0.7400\n",
      "Epoch 23/100\n",
      "24/24 [==============================] - 3s 115ms/step - loss: 0.0264 - accuracy: 0.9874 - val_loss: 2.9283 - val_accuracy: 0.7374\n",
      "Epoch 24/100\n",
      "24/24 [==============================] - 3s 114ms/step - loss: 0.0257 - accuracy: 0.9878 - val_loss: 2.8302 - val_accuracy: 0.7360\n",
      "Epoch 25/100\n",
      "24/24 [==============================] - 3s 112ms/step - loss: 0.0259 - accuracy: 0.9859 - val_loss: 3.0678 - val_accuracy: 0.7321\n",
      "Epoch 26/100\n",
      "24/24 [==============================] - 3s 110ms/step - loss: 0.0257 - accuracy: 0.9869 - val_loss: 3.1854 - val_accuracy: 0.7360\n",
      "Epoch 27/100\n",
      "24/24 [==============================] - 3s 110ms/step - loss: 0.0273 - accuracy: 0.9867 - val_loss: 2.8631 - val_accuracy: 0.7242\n",
      "Epoch 28/100\n",
      "24/24 [==============================] - 3s 110ms/step - loss: 0.0280 - accuracy: 0.9859 - val_loss: 3.4303 - val_accuracy: 0.7288\n",
      "Epoch 29/100\n",
      "24/24 [==============================] - 3s 111ms/step - loss: 0.0248 - accuracy: 0.9869 - val_loss: 3.3148 - val_accuracy: 0.7315\n",
      "Epoch 30/100\n",
      "24/24 [==============================] - 3s 110ms/step - loss: 0.0272 - accuracy: 0.9869 - val_loss: 3.2582 - val_accuracy: 0.7223\n",
      "Epoch 31/100\n",
      "24/24 [==============================] - 3s 109ms/step - loss: 0.0255 - accuracy: 0.9865 - val_loss: 3.2287 - val_accuracy: 0.7400\n",
      "Epoch 32/100\n",
      "24/24 [==============================] - 3s 109ms/step - loss: 0.0276 - accuracy: 0.9870 - val_loss: 3.5637 - val_accuracy: 0.7360\n",
      "Epoch 33/100\n",
      "24/24 [==============================] - 3s 109ms/step - loss: 0.0244 - accuracy: 0.9882 - val_loss: 3.1686 - val_accuracy: 0.7459\n",
      "Epoch 34/100\n",
      "24/24 [==============================] - 3s 109ms/step - loss: 0.0372 - accuracy: 0.9856 - val_loss: 1.9412 - val_accuracy: 0.7387\n",
      "Epoch 35/100\n",
      "24/24 [==============================] - 3s 113ms/step - loss: 0.0342 - accuracy: 0.9849 - val_loss: 2.2442 - val_accuracy: 0.7406\n",
      "Epoch 36/100\n",
      "24/24 [==============================] - 3s 110ms/step - loss: 0.0415 - accuracy: 0.9818 - val_loss: 1.7155 - val_accuracy: 0.7472\n",
      "Epoch 37/100\n",
      "24/24 [==============================] - 3s 112ms/step - loss: 0.0372 - accuracy: 0.9831 - val_loss: 2.1878 - val_accuracy: 0.7354\n",
      "Epoch 38/100\n",
      "24/24 [==============================] - 3s 111ms/step - loss: 0.0288 - accuracy: 0.9865 - val_loss: 2.5104 - val_accuracy: 0.7360\n",
      "Epoch 39/100\n",
      "24/24 [==============================] - 3s 111ms/step - loss: 0.0328 - accuracy: 0.9856 - val_loss: 2.2861 - val_accuracy: 0.7229\n",
      "Epoch 40/100\n",
      "24/24 [==============================] - 3s 115ms/step - loss: 0.0337 - accuracy: 0.9847 - val_loss: 1.9871 - val_accuracy: 0.7275\n",
      "Epoch 41/100\n",
      "24/24 [==============================] - 3s 112ms/step - loss: 0.0277 - accuracy: 0.9870 - val_loss: 2.4027 - val_accuracy: 0.7420\n",
      "Epoch 42/100\n",
      "24/24 [==============================] - 3s 112ms/step - loss: 0.0274 - accuracy: 0.9860 - val_loss: 2.6466 - val_accuracy: 0.7459\n",
      "Epoch 43/100\n",
      "24/24 [==============================] - 3s 111ms/step - loss: 0.0296 - accuracy: 0.9860 - val_loss: 2.4879 - val_accuracy: 0.7374\n",
      "Epoch 44/100\n",
      "24/24 [==============================] - 3s 117ms/step - loss: 0.0257 - accuracy: 0.9864 - val_loss: 2.7887 - val_accuracy: 0.7406\n",
      "Epoch 45/100\n",
      "24/24 [==============================] - 3s 114ms/step - loss: 0.0245 - accuracy: 0.9877 - val_loss: 2.9762 - val_accuracy: 0.7426\n",
      "Epoch 46/100\n",
      "24/24 [==============================] - 3s 113ms/step - loss: 0.0251 - accuracy: 0.9877 - val_loss: 2.8496 - val_accuracy: 0.7367\n"
     ]
    }
   ],
   "source": [
    "# Model 2\n",
    "\n",
    "max_words = 10000\n",
    "tokenizer = Tokenizer(num_words = max_words,oov_token = '<OOV>')\n",
    "tokenizer.fit_on_texts(X_train[\"text_clean\"])\n",
    "max_len = 200\n",
    "sequences_train = tokenizer.texts_to_sequences(X_train['text_clean'].values)\n",
    "padded_train = pad_sequences(sequences_train)\n",
    "sequences_val = tokenizer.texts_to_sequences(X_val['text_clean'].values)\n",
    "padded_val = pad_sequences(sequences_val, maxlen=max_len, truncating='post')\n",
    "\n",
    "\n",
    "model2 = Sequential()\n",
    "model2.add(Embedding(10000,128))\n",
    "model2.add(Bidirectional(LSTM(64,return_sequences=True)))\n",
    "model2.add(Bidirectional(LSTM(64)))\n",
    "model2.add(Dropout(0.5))\n",
    "model2.add(Flatten())\n",
    "model2.add(Dense(128,activation=\"relu\"))\n",
    "model2.add(Dropout(0.4))\n",
    "model2.add(Dense(64, activation = 'relu'))\n",
    "model2.add(Dropout(0.5))\n",
    "model2.add(Dense(1,activation=\"sigmoid\"))\n",
    "\n",
    "custom_lr = 0.003\n",
    "custom_optimizer = Adam(learning_rate=custom_lr)\n",
    "model2.compile(optimizer=custom_optimizer, loss='binary_crossentropy', metrics=['accuracy'])\n",
    "history = model2.fit(padded_train, y_train, epochs=100,validation_data=(padded_val, y_val),batch_size=256,\n",
    "                    callbacks=early_stopping)"
   ]
  },
  {
   "cell_type": "code",
   "execution_count": 28,
   "id": "3f494464",
   "metadata": {},
   "outputs": [
    {
     "name": "stdout",
     "output_type": "stream",
     "text": [
      "48/48 [==============================] - 3s 37ms/step\n"
     ]
    },
    {
     "data": {
      "text/plain": [
       "<matplotlib.legend.Legend at 0x14008eec610>"
      ]
     },
     "execution_count": 28,
     "metadata": {},
     "output_type": "execute_result"
    },
    {
     "data": {
      "image/png": "[encoded data removed]",
      "text/plain": [
       "<Figure size 1200x400 with 2 Axes>"
      ]
     },
     "metadata": {},
     "output_type": "display_data"
    }
   ],
   "source": [
    "y_pred = model2.predict(padded_val)\n",
    "y_pred = (y_pred > 0.5).astype(int)\n",
    "\n",
    "f1_scores.append( {'Variant 2',f1_score(X_val['target'], y_pred)})\n",
    "\n",
    "fig , ax = plt.subplots(1,2)\n",
    "fig.set_size_inches(12,4)\n",
    "\n",
    "ax[0].plot(history.history['accuracy'])\n",
    "ax[0].plot(history.history['val_accuracy'])\n",
    "ax[0].set_title('Variant 2 - Accuracy')\n",
    "ax[0].set_ylabel('Accuracy')\n",
    "ax[0].set_xlabel('Epoch')\n",
    "ax[0].legend(['Train', 'Validation'], loc='upper left')\n",
    "\n",
    "ax[1].plot(history.history['loss'])\n",
    "ax[1].plot(history.history['val_loss'])\n",
    "ax[1].set_title('Variant 2 - Loss')\n",
    "ax[1].set_ylabel('Loss')\n",
    "ax[1].set_xlabel('Epoch')\n",
    "ax[1].legend(['Train', 'Validation'], loc='upper left')"
   ]
  },
  {
   "cell_type": "code",
   "execution_count": 29,
   "id": "8d2b2ddf",
   "metadata": {},
   "outputs": [
    {
     "name": "stdout",
     "output_type": "stream",
     "text": [
      "Epoch 1/100\n",
      "24/24 [==============================] - 10s 176ms/step - loss: 0.6912 - accuracy: 0.5539 - val_loss: 0.6919 - val_accuracy: 0.5653\n",
      "Epoch 2/100\n",
      "24/24 [==============================] - 3s 119ms/step - loss: 0.6900 - accuracy: 0.5581 - val_loss: 0.6908 - val_accuracy: 0.5653\n",
      "Epoch 3/100\n",
      "24/24 [==============================] - 3s 118ms/step - loss: 0.6890 - accuracy: 0.5654 - val_loss: 0.6895 - val_accuracy: 0.5653\n",
      "Epoch 4/100\n",
      "24/24 [==============================] - 3s 118ms/step - loss: 0.6879 - accuracy: 0.5631 - val_loss: 0.6882 - val_accuracy: 0.5653\n",
      "Epoch 5/100\n",
      "24/24 [==============================] - 3s 118ms/step - loss: 0.6867 - accuracy: 0.5668 - val_loss: 0.6868 - val_accuracy: 0.5653\n",
      "Epoch 6/100\n",
      "24/24 [==============================] - 3s 116ms/step - loss: 0.6855 - accuracy: 0.5647 - val_loss: 0.6854 - val_accuracy: 0.5653\n",
      "Epoch 7/100\n",
      "24/24 [==============================] - 3s 115ms/step - loss: 0.6851 - accuracy: 0.5644 - val_loss: 0.6842 - val_accuracy: 0.5653\n",
      "Epoch 8/100\n",
      "24/24 [==============================] - 3s 115ms/step - loss: 0.6851 - accuracy: 0.5677 - val_loss: 0.6833 - val_accuracy: 0.5653\n",
      "Epoch 9/100\n",
      "24/24 [==============================] - 3s 115ms/step - loss: 0.6834 - accuracy: 0.5677 - val_loss: 0.6824 - val_accuracy: 0.5653\n",
      "Epoch 10/100\n",
      "24/24 [==============================] - 3s 115ms/step - loss: 0.6812 - accuracy: 0.5668 - val_loss: 0.6813 - val_accuracy: 0.5653\n",
      "Epoch 11/100\n",
      "24/24 [==============================] - 3s 115ms/step - loss: 0.6821 - accuracy: 0.5685 - val_loss: 0.6805 - val_accuracy: 0.5653\n",
      "Epoch 12/100\n",
      "24/24 [==============================] - 3s 116ms/step - loss: 0.6798 - accuracy: 0.5686 - val_loss: 0.6796 - val_accuracy: 0.5653\n",
      "Epoch 13/100\n",
      "24/24 [==============================] - 3s 117ms/step - loss: 0.6826 - accuracy: 0.5680 - val_loss: 0.6788 - val_accuracy: 0.5653\n",
      "Epoch 14/100\n",
      "24/24 [==============================] - 3s 116ms/step - loss: 0.6817 - accuracy: 0.5677 - val_loss: 0.6779 - val_accuracy: 0.5653\n",
      "Epoch 15/100\n",
      "24/24 [==============================] - 3s 112ms/step - loss: 0.6791 - accuracy: 0.5709 - val_loss: 0.6765 - val_accuracy: 0.5653\n",
      "Epoch 16/100\n",
      "24/24 [==============================] - 3s 119ms/step - loss: 0.6771 - accuracy: 0.5691 - val_loss: 0.6745 - val_accuracy: 0.5653\n",
      "Epoch 17/100\n",
      "24/24 [==============================] - 3s 112ms/step - loss: 0.6760 - accuracy: 0.5701 - val_loss: 0.6728 - val_accuracy: 0.5653\n",
      "Epoch 18/100\n",
      "24/24 [==============================] - 3s 114ms/step - loss: 0.6734 - accuracy: 0.5698 - val_loss: 0.6697 - val_accuracy: 0.5653\n",
      "Epoch 19/100\n",
      "24/24 [==============================] - 3s 112ms/step - loss: 0.6720 - accuracy: 0.5716 - val_loss: 0.6662 - val_accuracy: 0.5653\n",
      "Epoch 20/100\n",
      "24/24 [==============================] - 3s 112ms/step - loss: 0.6644 - accuracy: 0.5714 - val_loss: 0.6612 - val_accuracy: 0.5653\n",
      "Epoch 21/100\n",
      "24/24 [==============================] - 3s 114ms/step - loss: 0.6599 - accuracy: 0.5704 - val_loss: 0.6551 - val_accuracy: 0.5653\n",
      "Epoch 22/100\n",
      "24/24 [==============================] - 3s 109ms/step - loss: 0.6482 - accuracy: 0.5724 - val_loss: 0.6713 - val_accuracy: 0.5653\n",
      "Epoch 23/100\n",
      "24/24 [==============================] - 3s 109ms/step - loss: 0.6327 - accuracy: 0.5737 - val_loss: 0.7841 - val_accuracy: 0.5653\n",
      "Epoch 24/100\n",
      "24/24 [==============================] - 3s 110ms/step - loss: 0.6027 - accuracy: 0.5821 - val_loss: 1.1664 - val_accuracy: 0.5653\n",
      "Epoch 25/100\n",
      "24/24 [==============================] - 3s 110ms/step - loss: 0.5652 - accuracy: 0.5911 - val_loss: 1.5051 - val_accuracy: 0.5653\n",
      "Epoch 26/100\n",
      "24/24 [==============================] - 3s 109ms/step - loss: 0.5264 - accuracy: 0.6171 - val_loss: 1.6368 - val_accuracy: 0.6290\n",
      "Epoch 27/100\n",
      "24/24 [==============================] - 3s 109ms/step - loss: 0.4997 - accuracy: 0.6440 - val_loss: 1.6161 - val_accuracy: 0.6743\n",
      "Epoch 28/100\n",
      "24/24 [==============================] - 3s 110ms/step - loss: 0.4815 - accuracy: 0.6708 - val_loss: 1.5696 - val_accuracy: 0.7039\n",
      "Epoch 29/100\n",
      "24/24 [==============================] - 3s 109ms/step - loss: 0.4583 - accuracy: 0.6995 - val_loss: 1.4854 - val_accuracy: 0.7374\n",
      "Epoch 30/100\n",
      "24/24 [==============================] - 3s 110ms/step - loss: 0.4427 - accuracy: 0.7407 - val_loss: 1.4721 - val_accuracy: 0.7525\n",
      "Epoch 31/100\n",
      "24/24 [==============================] - 3s 108ms/step - loss: 0.4312 - accuracy: 0.7603 - val_loss: 1.3785 - val_accuracy: 0.7735\n",
      "Epoch 32/100\n",
      "24/24 [==============================] - 3s 110ms/step - loss: 0.4128 - accuracy: 0.7900 - val_loss: 1.3636 - val_accuracy: 0.7774\n",
      "Epoch 33/100\n",
      "24/24 [==============================] - 3s 110ms/step - loss: 0.4042 - accuracy: 0.8140 - val_loss: 1.5236 - val_accuracy: 0.7676\n",
      "Epoch 34/100\n",
      "24/24 [==============================] - 3s 114ms/step - loss: 0.3928 - accuracy: 0.8340 - val_loss: 1.4918 - val_accuracy: 0.7728\n",
      "Epoch 35/100\n",
      "24/24 [==============================] - 3s 110ms/step - loss: 0.3805 - accuracy: 0.8583 - val_loss: 1.4944 - val_accuracy: 0.7722\n",
      "Epoch 36/100\n",
      "24/24 [==============================] - 3s 114ms/step - loss: 0.3735 - accuracy: 0.8626 - val_loss: 1.5763 - val_accuracy: 0.7728\n",
      "Epoch 37/100\n",
      "24/24 [==============================] - 3s 113ms/step - loss: 0.3620 - accuracy: 0.8764 - val_loss: 1.6810 - val_accuracy: 0.7682\n",
      "Epoch 38/100\n",
      "24/24 [==============================] - 3s 114ms/step - loss: 0.3558 - accuracy: 0.8808 - val_loss: 1.6451 - val_accuracy: 0.7728\n",
      "Epoch 39/100\n",
      "24/24 [==============================] - 3s 115ms/step - loss: 0.3437 - accuracy: 0.8972 - val_loss: 1.6496 - val_accuracy: 0.7689\n",
      "Epoch 40/100\n",
      "24/24 [==============================] - 3s 113ms/step - loss: 0.3321 - accuracy: 0.9018 - val_loss: 1.6437 - val_accuracy: 0.7695\n",
      "Epoch 41/100\n",
      "24/24 [==============================] - 3s 115ms/step - loss: 0.3186 - accuracy: 0.8956 - val_loss: 1.5011 - val_accuracy: 0.7794\n",
      "Epoch 42/100\n",
      "24/24 [==============================] - 3s 119ms/step - loss: 0.3031 - accuracy: 0.9002 - val_loss: 1.4099 - val_accuracy: 0.7741\n"
     ]
    }
   ],
   "source": [
    "# Model 3\n",
    "\n",
    "max_words = 10000\n",
    "tokenizer = Tokenizer(num_words = max_words,oov_token = '<OOV>')\n",
    "tokenizer.fit_on_texts(X_train[\"text_clean\"])\n",
    "max_len = 200\n",
    "sequences_train = tokenizer.texts_to_sequences(X_train['text_clean'].values)\n",
    "padded_train = pad_sequences(sequences_train)\n",
    "sequences_val = tokenizer.texts_to_sequences(X_val['text_clean'].values)\n",
    "padded_val = pad_sequences(sequences_val, maxlen=max_len, truncating='post')\n",
    "\n",
    "\n",
    "model3 = Sequential()\n",
    "model3.add(Embedding(10000,128))\n",
    "model3.add(Bidirectional(LSTM(64,return_sequences=True)))\n",
    "model3.add(Bidirectional(LSTM(64)))\n",
    "model3.add(Dropout(0.5))\n",
    "model3.add(Flatten())\n",
    "model3.add(Dense(128,activation=\"relu\"))\n",
    "model3.add(Dropout(0.4))\n",
    "model3.add(Dense(64, activation = 'relu'))\n",
    "model3.add(Dropout(0.5))\n",
    "model3.add(Dense(32, activation = 'relu'))\n",
    "model3.add(Dropout(0.5))\n",
    "model3.add(Dense(1,activation=\"sigmoid\"))\n",
    "custom_lr = 0.00003\n",
    "custom_optimizer = Adam(learning_rate=custom_lr)\n",
    "model3.compile(optimizer=custom_optimizer, loss='binary_crossentropy', metrics=['accuracy'])\n",
    "history = model3.fit(padded_train, y_train, epochs=100,validation_data=(padded_val, y_val),batch_size=256,\n",
    "                    callbacks=early_stopping)"
   ]
  },
  {
   "cell_type": "code",
   "execution_count": 30,
   "id": "0b5ad034",
   "metadata": {},
   "outputs": [
    {
     "name": "stdout",
     "output_type": "stream",
     "text": [
      "48/48 [==============================] - 3s 37ms/step\n"
     ]
    },
    {
     "data": {
      "text/plain": [
       "<matplotlib.legend.Legend at 0x14012509cd0>"
      ]
     },
     "execution_count": 30,
     "metadata": {},
     "output_type": "execute_result"
    },
    {
     "data": {
      "image/png": "[encoded data removed]",
      "text/plain": [
       "<Figure size 1200x400 with 2 Axes>"
      ]
     },
     "metadata": {},
     "output_type": "display_data"
    }
   ],
   "source": [
    "y_pred = model3.predict(padded_val)\n",
    "y_pred = (y_pred > 0.5).astype(int)\n",
    "\n",
    "f1_scores.append( {'Variant 3',f1_score(X_val['target'], y_pred)})\n",
    "\n",
    "fig , ax = plt.subplots(1,2)\n",
    "fig.set_size_inches(12,4)\n",
    "\n",
    "ax[0].plot(history.history['accuracy'])\n",
    "ax[0].plot(history.history['val_accuracy'])\n",
    "ax[0].set_title('Variant 3 - Accuracy')\n",
    "ax[0].set_ylabel('Accuracy')\n",
    "ax[0].set_xlabel('Epoch')\n",
    "ax[0].legend(['Train', 'Validation'], loc='upper left')\n",
    "\n",
    "ax[1].plot(history.history['loss'])\n",
    "ax[1].plot(history.history['val_loss'])\n",
    "ax[1].set_title('Variant 3 - Loss')\n",
    "ax[1].set_ylabel('Loss')\n",
    "ax[1].set_xlabel('Epoch')\n",
    "ax[1].legend(['Train', 'Validation'], loc='upper left')"
   ]
  },
  {
   "cell_type": "code",
   "execution_count": 31,
   "id": "c2d8eead",
   "metadata": {},
   "outputs": [
    {
     "name": "stdout",
     "output_type": "stream",
     "text": [
      "Epoch 1/100\n",
      "24/24 [==============================] - 10s 175ms/step - loss: 0.6914 - accuracy: 0.5445 - val_loss: 0.6917 - val_accuracy: 0.5653\n",
      "Epoch 2/100\n",
      "24/24 [==============================] - 3s 120ms/step - loss: 0.6902 - accuracy: 0.5473 - val_loss: 0.6907 - val_accuracy: 0.5653\n",
      "Epoch 3/100\n",
      "24/24 [==============================] - 3s 119ms/step - loss: 0.6896 - accuracy: 0.5537 - val_loss: 0.6897 - val_accuracy: 0.5653\n",
      "Epoch 4/100\n",
      "24/24 [==============================] - 3s 120ms/step - loss: 0.6885 - accuracy: 0.5586 - val_loss: 0.6887 - val_accuracy: 0.5653\n",
      "Epoch 5/100\n",
      "24/24 [==============================] - 3s 117ms/step - loss: 0.6878 - accuracy: 0.5568 - val_loss: 0.6878 - val_accuracy: 0.5653\n",
      "Epoch 6/100\n",
      "24/24 [==============================] - 3s 116ms/step - loss: 0.6869 - accuracy: 0.5575 - val_loss: 0.6869 - val_accuracy: 0.5653\n",
      "Epoch 7/100\n",
      "24/24 [==============================] - 3s 117ms/step - loss: 0.6870 - accuracy: 0.5553 - val_loss: 0.6864 - val_accuracy: 0.5653\n",
      "Epoch 8/100\n",
      "24/24 [==============================] - 3s 117ms/step - loss: 0.6861 - accuracy: 0.5603 - val_loss: 0.6854 - val_accuracy: 0.5653\n",
      "Epoch 9/100\n",
      "24/24 [==============================] - 3s 118ms/step - loss: 0.6856 - accuracy: 0.5599 - val_loss: 0.6849 - val_accuracy: 0.5653\n",
      "Epoch 10/100\n",
      "24/24 [==============================] - 3s 117ms/step - loss: 0.6862 - accuracy: 0.5550 - val_loss: 0.6843 - val_accuracy: 0.5653\n",
      "Epoch 11/100\n",
      "24/24 [==============================] - 3s 115ms/step - loss: 0.6865 - accuracy: 0.5573 - val_loss: 0.6840 - val_accuracy: 0.5653\n",
      "Epoch 12/100\n",
      "24/24 [==============================] - 3s 115ms/step - loss: 0.6855 - accuracy: 0.5611 - val_loss: 0.6837 - val_accuracy: 0.5653\n",
      "Epoch 13/100\n",
      "24/24 [==============================] - 3s 114ms/step - loss: 0.6857 - accuracy: 0.5565 - val_loss: 0.6832 - val_accuracy: 0.5653\n",
      "Epoch 14/100\n",
      "24/24 [==============================] - 3s 118ms/step - loss: 0.6838 - accuracy: 0.5663 - val_loss: 0.6827 - val_accuracy: 0.5653\n",
      "Epoch 15/100\n",
      "24/24 [==============================] - 3s 114ms/step - loss: 0.6841 - accuracy: 0.5660 - val_loss: 0.6822 - val_accuracy: 0.5653\n",
      "Epoch 16/100\n",
      "24/24 [==============================] - 3s 111ms/step - loss: 0.6845 - accuracy: 0.5612 - val_loss: 0.6817 - val_accuracy: 0.5653\n",
      "Epoch 17/100\n",
      "24/24 [==============================] - 3s 111ms/step - loss: 0.6813 - accuracy: 0.5637 - val_loss: 0.6809 - val_accuracy: 0.5653\n",
      "Epoch 18/100\n",
      "24/24 [==============================] - 3s 113ms/step - loss: 0.6837 - accuracy: 0.5583 - val_loss: 0.6801 - val_accuracy: 0.5653\n",
      "Epoch 19/100\n",
      "24/24 [==============================] - 3s 137ms/step - loss: 0.6812 - accuracy: 0.5603 - val_loss: 0.6790 - val_accuracy: 0.5653\n",
      "Epoch 20/100\n",
      "24/24 [==============================] - 3s 114ms/step - loss: 0.6792 - accuracy: 0.5657 - val_loss: 0.6775 - val_accuracy: 0.5653\n",
      "Epoch 21/100\n",
      "24/24 [==============================] - 3s 109ms/step - loss: 0.6780 - accuracy: 0.5601 - val_loss: 0.6760 - val_accuracy: 0.5653\n",
      "Epoch 22/100\n",
      "24/24 [==============================] - 3s 109ms/step - loss: 0.6779 - accuracy: 0.5635 - val_loss: 0.6741 - val_accuracy: 0.5653\n",
      "Epoch 23/100\n",
      "24/24 [==============================] - 3s 110ms/step - loss: 0.6746 - accuracy: 0.5662 - val_loss: 0.6719 - val_accuracy: 0.5653\n",
      "Epoch 24/100\n",
      "24/24 [==============================] - 3s 112ms/step - loss: 0.6747 - accuracy: 0.5637 - val_loss: 0.6695 - val_accuracy: 0.5653\n",
      "Epoch 25/100\n",
      "24/24 [==============================] - 3s 110ms/step - loss: 0.6717 - accuracy: 0.5634 - val_loss: 0.6662 - val_accuracy: 0.5653\n",
      "Epoch 26/100\n",
      "24/24 [==============================] - 3s 109ms/step - loss: 0.6676 - accuracy: 0.5604 - val_loss: 0.6608 - val_accuracy: 0.5653\n",
      "Epoch 27/100\n",
      "24/24 [==============================] - 3s 112ms/step - loss: 0.6617 - accuracy: 0.5644 - val_loss: 0.6545 - val_accuracy: 0.5653\n",
      "Epoch 28/100\n",
      "24/24 [==============================] - 3s 112ms/step - loss: 0.6546 - accuracy: 0.5611 - val_loss: 0.6459 - val_accuracy: 0.5653\n",
      "Epoch 29/100\n",
      "24/24 [==============================] - 3s 110ms/step - loss: 0.6437 - accuracy: 0.5626 - val_loss: 0.6341 - val_accuracy: 0.5653\n",
      "Epoch 30/100\n",
      "24/24 [==============================] - 3s 112ms/step - loss: 0.6227 - accuracy: 0.5604 - val_loss: 0.6469 - val_accuracy: 0.5653\n",
      "Epoch 31/100\n",
      "24/24 [==============================] - 3s 111ms/step - loss: 0.6048 - accuracy: 0.5593 - val_loss: 0.9364 - val_accuracy: 0.5653\n",
      "Epoch 32/100\n",
      "24/24 [==============================] - 3s 111ms/step - loss: 0.5670 - accuracy: 0.5732 - val_loss: 1.0086 - val_accuracy: 0.6730\n",
      "Epoch 33/100\n",
      "24/24 [==============================] - 3s 111ms/step - loss: 0.5399 - accuracy: 0.5944 - val_loss: 0.9947 - val_accuracy: 0.7965\n",
      "Epoch 34/100\n",
      "24/24 [==============================] - 3s 110ms/step - loss: 0.5180 - accuracy: 0.6057 - val_loss: 1.0467 - val_accuracy: 0.7938\n",
      "Epoch 35/100\n",
      "24/24 [==============================] - 3s 109ms/step - loss: 0.5013 - accuracy: 0.6197 - val_loss: 1.4449 - val_accuracy: 0.7846\n",
      "Epoch 36/100\n",
      "24/24 [==============================] - 3s 110ms/step - loss: 0.4790 - accuracy: 0.6494 - val_loss: 1.1802 - val_accuracy: 0.7800\n",
      "Epoch 37/100\n",
      "24/24 [==============================] - 3s 117ms/step - loss: 0.4656 - accuracy: 0.6847 - val_loss: 1.6732 - val_accuracy: 0.7807\n",
      "Epoch 38/100\n",
      "24/24 [==============================] - 3s 117ms/step - loss: 0.4502 - accuracy: 0.7125 - val_loss: 1.8360 - val_accuracy: 0.7768\n",
      "Epoch 39/100\n",
      "24/24 [==============================] - 3s 117ms/step - loss: 0.4438 - accuracy: 0.7478 - val_loss: 1.6626 - val_accuracy: 0.7754\n",
      "Epoch 40/100\n",
      "24/24 [==============================] - 3s 115ms/step - loss: 0.4271 - accuracy: 0.7708 - val_loss: 1.8450 - val_accuracy: 0.7761\n",
      "Epoch 41/100\n",
      "24/24 [==============================] - 3s 116ms/step - loss: 0.4103 - accuracy: 0.7916 - val_loss: 1.8488 - val_accuracy: 0.7781\n"
     ]
    }
   ],
   "source": [
    "# Model 4\n",
    "\n",
    "max_words = 10000\n",
    "tokenizer = Tokenizer(num_words = max_words,oov_token = '<OOV>')\n",
    "tokenizer.fit_on_texts(X_train[\"text_clean\"])\n",
    "max_len = 200\n",
    "sequences_train = tokenizer.texts_to_sequences(X_train['text_clean'].values)\n",
    "padded_train = pad_sequences(sequences_train)\n",
    "sequences_val = tokenizer.texts_to_sequences(X_val['text_clean'].values)\n",
    "padded_val = pad_sequences(sequences_val, maxlen=max_len, truncating='post')\n",
    "\n",
    "\n",
    "model4 = Sequential()\n",
    "model4.add(Embedding(10000,128))\n",
    "model4.add(Bidirectional(LSTM(64,return_sequences=True)))\n",
    "model4.add(Bidirectional(LSTM(64)))\n",
    "model4.add(Dropout(0.5))\n",
    "model4.add(Flatten())\n",
    "model4.add(Dense(128,activation=\"relu\"))\n",
    "model4.add(Dropout(0.4))\n",
    "model4.add(Dense(64, activation = 'relu'))\n",
    "model4.add(Dropout(0.5))\n",
    "model4.add(Dense(32, activation = 'relu'))\n",
    "model4.add(Dropout(0.5))\n",
    "model4.add(Dense(16, activation = 'relu'))\n",
    "model4.add(Dropout(0.4))\n",
    "model4.add(Dense(1,activation=\"sigmoid\"))\n",
    "\n",
    "custom_lr = 0.00003\n",
    "custom_optimizer = Adam(learning_rate=custom_lr)\n",
    "model4.compile(optimizer=custom_optimizer, loss='binary_crossentropy', metrics=['accuracy'])\n",
    "history = model4.fit(padded_train, y_train, epochs=100,validation_data=(padded_val, y_val),batch_size=256,\n",
    "                    callbacks=early_stopping)"
   ]
  },
  {
   "cell_type": "code",
   "execution_count": 32,
   "id": "692a9386",
   "metadata": {},
   "outputs": [
    {
     "name": "stdout",
     "output_type": "stream",
     "text": [
      "48/48 [==============================] - 3s 36ms/step\n"
     ]
    },
    {
     "data": {
      "text/plain": [
       "<matplotlib.legend.Legend at 0x140096eb8d0>"
      ]
     },
     "execution_count": 32,
     "metadata": {},
     "output_type": "execute_result"
    },
    {
     "data": {
      "image/png": "[encoded data removed]",
      "text/plain": [
       "<Figure size 1200x400 with 2 Axes>"
      ]
     },
     "metadata": {},
     "output_type": "display_data"
    }
   ],
   "source": [
    "y_pred = model4.predict(padded_val)\n",
    "y_pred = (y_pred > 0.5).astype(int)\n",
    "\n",
    "f1_scores.append( {'Variant 4',f1_score(X_val['target'], y_pred)})\n",
    "\n",
    "fig , ax = plt.subplots(1,2)\n",
    "fig.set_size_inches(12,4)\n",
    "\n",
    "ax[0].plot(history.history['accuracy'])\n",
    "ax[0].plot(history.history['val_accuracy'])\n",
    "ax[0].set_title('Variant 4 - Accuracy')\n",
    "ax[0].set_ylabel('Accuracy')\n",
    "ax[0].set_xlabel('Epoch')\n",
    "ax[0].legend(['Train', 'Validation'], loc='upper left')\n",
    "\n",
    "ax[1].plot(history.history['loss'])\n",
    "ax[1].plot(history.history['val_loss'])\n",
    "ax[1].set_title('Variant 4 - Loss')\n",
    "ax[1].set_ylabel('Loss')\n",
    "ax[1].set_xlabel('Epoch')\n",
    "ax[1].legend(['Train', 'Validation'], loc='upper left')"
   ]
  },
  {
   "cell_type": "markdown",
   "id": "b2098d46",
   "metadata": {},
   "source": [
    "## Conclusion\n",
    "Based upon the model variants is appeears that improvements on the base model are possible.\n",
    "- In the first variante the additionn of an additional had a significant improvement in the F1 score.  The addition of this layer resulted in increaed improvments in the validation accuracy in later epochs.\n",
    "- In the 2nd variante, it be can be seen that a reduction in the training rate has an adverse impact on the results.  The validation error appears to bounce up an down, without any real improvements\n",
    "- In the 3rd variante, adding one more Dense leayer resulted in a margain improvement in teh results.\n",
    "- However addiing yet one more layer as with Variant 4, had an adverse impact on the results.  \n",
    "\n",
    "\n",
    "Overall the 3rd variante resulted in the best performance and is used for the Kaggle submission"
   ]
  },
  {
   "cell_type": "code",
   "execution_count": 33,
   "id": "d7da0f95",
   "metadata": {},
   "outputs": [
    {
     "name": "stdout",
     "output_type": "stream",
     "text": [
      "[{0.5367965367965368, 'Base Model'}, {0.7057761732851985, 'Variant 1'}, {0.6903474903474903, 'Variant 2'}, {0.7203252032520325, 'Variant 3'}, {0.71160409556314, 'Variant 4'}]\n"
     ]
    }
   ],
   "source": [
    "print (f1_scores)"
   ]
  },
  {
   "cell_type": "code",
   "execution_count": 34,
   "id": "b6e8f8c4",
   "metadata": {},
   "outputs": [
    {
     "data": {
      "text/html": [
       "<div>\n",
       "<style scoped>\n",
       "    .dataframe tbody tr th:only-of-type {\n",
       "        vertical-align: middle;\n",
       "    }\n",
       "\n",
       "    .dataframe tbody tr th {\n",
       "        vertical-align: top;\n",
       "    }\n",
       "\n",
       "    .dataframe thead th {\n",
       "        text-align: right;\n",
       "    }\n",
       "</style>\n",
       "<table border=\"1\" class=\"dataframe\">\n",
       "  <thead>\n",
       "    <tr style=\"text-align: right;\">\n",
       "      <th></th>\n",
       "      <th>id</th>\n",
       "      <th>keyword</th>\n",
       "      <th>location</th>\n",
       "      <th>text</th>\n",
       "      <th>text_clean</th>\n",
       "    </tr>\n",
       "  </thead>\n",
       "  <tbody>\n",
       "    <tr>\n",
       "      <th>0</th>\n",
       "      <td>0</td>\n",
       "      <td>NaN</td>\n",
       "      <td>NaN</td>\n",
       "      <td>Just happened a terrible car crash</td>\n",
       "      <td>happened terrible car crash</td>\n",
       "    </tr>\n",
       "    <tr>\n",
       "      <th>1</th>\n",
       "      <td>2</td>\n",
       "      <td>NaN</td>\n",
       "      <td>NaN</td>\n",
       "      <td>Heard about #earthquake is different cities, s...</td>\n",
       "      <td>heard earthquake different cities  stay safe e...</td>\n",
       "    </tr>\n",
       "    <tr>\n",
       "      <th>2</th>\n",
       "      <td>3</td>\n",
       "      <td>NaN</td>\n",
       "      <td>NaN</td>\n",
       "      <td>there is a forest fire at spot pond, geese are...</td>\n",
       "      <td>forest fire spot pond  geese fleeing across st...</td>\n",
       "    </tr>\n",
       "    <tr>\n",
       "      <th>3</th>\n",
       "      <td>9</td>\n",
       "      <td>NaN</td>\n",
       "      <td>NaN</td>\n",
       "      <td>Apocalypse lighting. #Spokane #wildfires</td>\n",
       "      <td>apocalypse lighting  spokane wildfires</td>\n",
       "    </tr>\n",
       "    <tr>\n",
       "      <th>4</th>\n",
       "      <td>11</td>\n",
       "      <td>NaN</td>\n",
       "      <td>NaN</td>\n",
       "      <td>Typhoon Soudelor kills 28 in China and Taiwan</td>\n",
       "      <td>typhoon soudelor kills 28 china taiwan</td>\n",
       "    </tr>\n",
       "  </tbody>\n",
       "</table>\n",
       "</div>"
      ],
      "text/plain": [
       "   id keyword location                                               text  \\\n",
       "0   0     NaN      NaN                 Just happened a terrible car crash   \n",
       "1   2     NaN      NaN  Heard about #earthquake is different cities, s...   \n",
       "2   3     NaN      NaN  there is a forest fire at spot pond, geese are...   \n",
       "3   9     NaN      NaN           Apocalypse lighting. #Spokane #wildfires   \n",
       "4  11     NaN      NaN      Typhoon Soudelor kills 28 in China and Taiwan   \n",
       "\n",
       "                                          text_clean  \n",
       "0                        happened terrible car crash  \n",
       "1  heard earthquake different cities  stay safe e...  \n",
       "2  forest fire spot pond  geese fleeing across st...  \n",
       "3             apocalypse lighting  spokane wildfires  \n",
       "4             typhoon soudelor kills 28 china taiwan  "
      ]
     },
     "execution_count": 34,
     "metadata": {},
     "output_type": "execute_result"
    }
   ],
   "source": [
    "testing_data['text_clean'] = clean_text(testing_data['text'])\n",
    "testing_data.head()"
   ]
  },
  {
   "cell_type": "code",
   "execution_count": 35,
   "id": "ca9f8423",
   "metadata": {},
   "outputs": [],
   "source": [
    "sequences_test = tokenizer.texts_to_sequences(testing_data['text_clean'].values)\n",
    "padded_test = pad_sequences(sequences_test,maxlen=max_len, truncating='post')"
   ]
  },
  {
   "cell_type": "code",
   "execution_count": 39,
   "id": "934cd006",
   "metadata": {},
   "outputs": [
    {
     "name": "stdout",
     "output_type": "stream",
     "text": [
      "102/102 [==============================] - 4s 34ms/step\n"
     ]
    }
   ],
   "source": [
    "# predict testing results\n",
    "pred_prob = model3.predict(padded_test)\n",
    "pred_prob = np.transpose(pred_prob)[0]\n",
    "y_pred = list(map(lambda x: 0 if x < 0.5 else 1, pred_prob))"
   ]
  },
  {
   "cell_type": "code",
   "execution_count": 40,
   "id": "c9cb6f5c",
   "metadata": {},
   "outputs": [],
   "source": [
    "submission[\"target\"] = y_pred"
   ]
  },
  {
   "cell_type": "code",
   "execution_count": 41,
   "id": "6f6817a2",
   "metadata": {},
   "outputs": [],
   "source": [
    "submission.to_csv(\"submission.csv\", index=False)"
   ]
  },
  {
   "cell_type": "code",
   "execution_count": null,
   "id": "1e4e5ebb",
   "metadata": {},
   "outputs": [],
   "source": []
  }
 ],
 "metadata": {
  "kernelspec": {
   "display_name": "Python 3 (ipykernel)",
   "language": "python",
   "name": "python3"
  },
  "language_info": {
   "codemirror_mode": {
    "name": "ipython",
    "version": 3
   },
   "file_extension": ".py",
   "mimetype": "text/x-python",
   "name": "python",
   "nbconvert_exporter": "python",
   "pygments_lexer": "ipython3",
   "version": "3.11.5"
  }
 },
 "nbformat": 4,
 "nbformat_minor": 5
}
